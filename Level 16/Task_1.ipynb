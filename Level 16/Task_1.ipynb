{
 "cells": [
  {
   "cell_type": "code",
   "execution_count": 0,
   "metadata": {
    "application/vnd.databricks.v1+cell": {
     "cellMetadata": {
      "byteLimit": 2048000,
      "rowLimit": 10000
     },
     "inputWidgets": {},
     "nuid": "0e4db69e-f6a7-4ea2-9b31-e5270ce8fcd7",
     "showTitle": false,
     "tableResultSettingsMap": {},
     "title": ""
    }
   },
   "outputs": [
    {
     "name": "stdout",
     "output_type": "stream",
     "text": [
      "root\n",
      " |-- name: string (nullable = true)\n",
      " |-- href: string (nullable = true)\n",
      " |-- role: string (nullable = true)\n",
      " |-- profile_id: string (nullable = true)\n",
      "\n",
      "+----------------+--------------------+-------------+----------+\n",
      "|            name|                href|         role|profile_id|\n",
      "+----------------+--------------------+-------------+----------+\n",
      "|    Rohit sharma|https://www.cricb...|      captain|       576|\n",
      "|      Chris lynn|https://www.cricb...|   playing_11|      7752|\n",
      "|Suryakumar yadav|https://www.cricb...|   playing_11|      7915|\n",
      "|    Ishan kishan|https://www.cricb...|wicket_keeper|     10276|\n",
      "|   Hardik pandya|https://www.cricb...|   playing_11|      9647|\n",
      "+----------------+--------------------+-------------+----------+\n",
      "only showing top 5 rows\n",
      "\n"
     ]
    }
   ],
   "source": [
    "ipl_raw_df = spark.read.option(\"header\", True)\\\n",
    "    .option(\"inferSchema\", False)\\\n",
    "    .csv(\"/FileStore/tables/ipl_players_href.csv\")\n",
    "\n",
    "ipl_raw_df.printSchema()\n",
    "ipl_raw_df.show(5)"
   ]
  },
  {
   "cell_type": "code",
   "execution_count": 0,
   "metadata": {
    "application/vnd.databricks.v1+cell": {
     "cellMetadata": {
      "byteLimit": 2048000,
      "rowLimit": 10000
     },
     "inputWidgets": {},
     "nuid": "6317df62-d0d1-4104-bd1d-b869440ad631",
     "showTitle": false,
     "tableResultSettingsMap": {},
     "title": ""
    }
   },
   "outputs": [
    {
     "name": "stdout",
     "output_type": "stream",
     "text": [
      "root\n",
      " |-- name: string (nullable = true)\n",
      " |-- href: string (nullable = true)\n",
      " |-- role: string (nullable = true)\n",
      " |-- profile_id: integer (nullable = true)\n",
      "\n",
      "+----------------+--------------------+-------------+----------+\n",
      "|            name|                href|         role|profile_id|\n",
      "+----------------+--------------------+-------------+----------+\n",
      "|    Rohit sharma|https://www.cricb...|      captain|       576|\n",
      "|      Chris lynn|https://www.cricb...|   playing_11|      7752|\n",
      "|Suryakumar yadav|https://www.cricb...|   playing_11|      7915|\n",
      "|    Ishan kishan|https://www.cricb...|wicket_keeper|     10276|\n",
      "|   Hardik pandya|https://www.cricb...|   playing_11|      9647|\n",
      "+----------------+--------------------+-------------+----------+\n",
      "only showing top 5 rows\n",
      "\n"
     ]
    }
   ],
   "source": [
    "from pyspark.sql.types import StructType, StructField, StringType, IntegerType, FloatType\n",
    "\n",
    "ipl_schema = StructType([\n",
    "    StructField(\"name\", StringType(), True),\n",
    "    StructField(\"href\", StringType(), True),\n",
    "    StructField(\"role\", StringType(), True),\n",
    "    StructField(\"profile_id\",IntegerType(),True)\n",
    "])\n",
    "\n",
    "ipl_enforced_df = spark.read.option(\"header\", True)\\\n",
    "    .schema(ipl_schema)\\\n",
    "    .csv(\"/FileStore/tables/ipl_players_href.csv\")\n",
    "\n",
    "ipl_enforced_df.printSchema()\n",
    "ipl_enforced_df.show(5)"
   ]
  },
  {
   "cell_type": "code",
   "execution_count": 0,
   "metadata": {
    "application/vnd.databricks.v1+cell": {
     "cellMetadata": {},
     "inputWidgets": {},
     "nuid": "1e0e7ab1-e957-4ce6-b964-823b9fb72ef1",
     "showTitle": false,
     "tableResultSettingsMap": {},
     "title": ""
    }
   },
   "outputs": [],
   "source": []
  }
 ],
 "metadata": {
  "application/vnd.databricks.v1+notebook": {
   "computePreferences": null,
   "dashboards": [],
   "environmentMetadata": {
    "base_environment": "",
    "environment_version": "1"
   },
   "inputWidgetPreferences": null,
   "language": "python",
   "notebookMetadata": {
    "pythonIndentUnit": 4
   },
   "notebookName": "ipl_sample_check",
   "widgets": {}
  },
  "language_info": {
   "name": "python"
  }
 },
 "nbformat": 4,
 "nbformat_minor": 0
}
