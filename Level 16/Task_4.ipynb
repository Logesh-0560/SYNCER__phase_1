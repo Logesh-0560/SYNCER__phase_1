{
 "cells": [
  {
   "cell_type": "code",
   "execution_count": 0,
   "metadata": {
    "application/vnd.databricks.v1+cell": {
     "cellMetadata": {
      "byteLimit": 2048000,
      "rowLimit": 10000
     },
     "inputWidgets": {},
     "nuid": "45de03da-b892-4c49-917f-73fd45d41722",
     "showTitle": false,
     "tableResultSettingsMap": {},
     "title": ""
    }
   },
   "outputs": [],
   "source": [
    "df = spark.read.option(\"header\", True).csv(\"/FileStore/tables/ipl_over_data.csv\")\n",
    "df.createOrReplaceTempView(\"matches\")\n"
   ]
  },
  {
   "cell_type": "code",
   "execution_count": 0,
   "metadata": {
    "application/vnd.databricks.v1+cell": {
     "cellMetadata": {
      "byteLimit": 2048000,
      "rowLimit": 10000
     },
     "inputWidgets": {},
     "nuid": "b609b5e3-f4e0-49a0-bae0-2f50957fe051",
     "showTitle": false,
     "tableResultSettingsMap": {},
     "title": ""
    }
   },
   "outputs": [
    {
     "output_type": "stream",
     "name": "stdout",
     "output_type": "stream",
     "text": [
      "Out[5]: 13"
     ]
    }
   ],
   "source": [
    "teams_df = df.select(\"team1_name\").union(df.select(\"team2_name\")).distinct()\n",
    "teams_df.count()\n"
   ]
  },
  {
   "cell_type": "code",
   "execution_count": 0,
   "metadata": {
    "application/vnd.databricks.v1+cell": {
     "cellMetadata": {
      "byteLimit": 2048000,
      "rowLimit": 10000
     },
     "inputWidgets": {},
     "nuid": "bb2da589-fa83-4308-9644-490ce6c8c2e7",
     "showTitle": false,
     "tableResultSettingsMap": {},
     "title": ""
    }
   },
   "outputs": [
    {
     "output_type": "stream",
     "name": "stdout",
     "output_type": "stream",
     "text": [
      "+--------------------+\n|   match_tie_breaker|\n+--------------------+\n|          Super Over|\n|one - over elimin...|\n|      2nd Super Over|\n+--------------------+\n\n"
     ]
    }
   ],
   "source": [
    "df.select(\"match_tie_breaker\") \\\n",
    "  .where(\"match_tie_breaker IS NOT NULL\") \\\n",
    "  .distinct() \\\n",
    "  .show()\n"
   ]
  },
  {
   "cell_type": "code",
   "execution_count": 0,
   "metadata": {
    "application/vnd.databricks.v1+cell": {
     "cellMetadata": {
      "byteLimit": 2048000,
      "rowLimit": 10000
     },
     "inputWidgets": {},
     "nuid": "97e46d23-6dac-4433-9770-f87c38117575",
     "showTitle": false,
     "tableResultSettingsMap": {},
     "title": ""
    }
   },
   "outputs": [],
   "source": [
    "completed_df = df.filter(df.match_status == \"completed\")\n",
    "completed_df.createOrReplaceTempView(\"completed_matches\")\n"
   ]
  },
  {
   "cell_type": "code",
   "execution_count": 0,
   "metadata": {
    "application/vnd.databricks.v1+cell": {
     "cellMetadata": {
      "byteLimit": 2048000,
      "rowLimit": 10000
     },
     "inputWidgets": {},
     "nuid": "69fb011e-29f8-4f00-b314-9f754ce33786",
     "showTitle": false,
     "tableResultSettingsMap": {},
     "title": ""
    }
   },
   "outputs": [
    {
     "output_type": "stream",
     "name": "stdout",
     "output_type": "stream",
     "text": [
      "+----+--------+------------+--------------------+-----------------+----------+----------+-----------+-----------+\n|year|match_id|match_status|  match_winning_team|match_tie_breaker|team1_name|team2_name|team1_score|team2_score|\n+----+--------+------------+--------------------+-----------------+----------+----------+-----------+-----------+\n|2021|   35612|   completed|Royal Challengers...|             null|        MI|       RCB|        159|        160|\n|2021|   35612|   completed|Royal Challengers...|             null|        MI|       RCB|        159|        160|\n|2021|   35612|   completed|Royal Challengers...|             null|        MI|       RCB|        159|        160|\n|2021|   35612|   completed|Royal Challengers...|             null|        MI|       RCB|        159|        160|\n|2021|   35612|   completed|Royal Challengers...|             null|        MI|       RCB|        159|        160|\n|2021|   35612|   completed|Royal Challengers...|             null|        MI|       RCB|        159|        160|\n|2021|   35612|   completed|Royal Challengers...|             null|        MI|       RCB|        159|        160|\n|2021|   35612|   completed|Royal Challengers...|             null|        MI|       RCB|        159|        160|\n|2021|   35612|   completed|Royal Challengers...|             null|        MI|       RCB|        159|        160|\n|2021|   35612|   completed|Royal Challengers...|             null|        MI|       RCB|        159|        160|\n|2021|   35612|   completed|Royal Challengers...|             null|        MI|       RCB|        159|        160|\n|2021|   35612|   completed|Royal Challengers...|             null|        MI|       RCB|        159|        160|\n|2021|   35612|   completed|Royal Challengers...|             null|        MI|       RCB|        159|        160|\n|2021|   35612|   completed|Royal Challengers...|             null|        MI|       RCB|        159|        160|\n|2021|   35612|   completed|Royal Challengers...|             null|        MI|       RCB|        159|        160|\n|2021|   35612|   completed|Royal Challengers...|             null|        MI|       RCB|        159|        160|\n|2021|   35612|   completed|Royal Challengers...|             null|        MI|       RCB|        159|        160|\n|2021|   35612|   completed|Royal Challengers...|             null|        MI|       RCB|        159|        160|\n|2021|   35612|   completed|Royal Challengers...|             null|        MI|       RCB|        159|        160|\n|2021|   35612|   completed|Royal Challengers...|             null|        MI|       RCB|        159|        160|\n+----+--------+------------+--------------------+-----------------+----------+----------+-----------+-----------+\nonly showing top 20 rows\n\n"
     ]
    }
   ],
   "source": [
    "columns_to_keep = [\n",
    "    \"year\", \"match_id\", \"match_status\", \"match_winning_team\",\n",
    "    \"match_tie_breaker\", \"team1_name\", \"team2_name\", \"team1_score\", \"team2_score\"\n",
    "]\n",
    "\n",
    "final_df = completed_df.select(*columns_to_keep)\n",
    "final_df.show()\n"
   ]
  },
  {
   "cell_type": "code",
   "execution_count": 0,
   "metadata": {
    "application/vnd.databricks.v1+cell": {
     "cellMetadata": {},
     "inputWidgets": {},
     "nuid": "70d85719-2a6f-486e-b1ed-54a0d1da7935",
     "showTitle": false,
     "tableResultSettingsMap": {},
     "title": ""
    }
   },
   "outputs": [],
   "source": []
  }
 ],
 "metadata": {
  "application/vnd.databricks.v1+notebook": {
   "computePreferences": null,
   "dashboards": [],
   "environmentMetadata": {
    "base_environment": "",
    "environment_version": "1"
   },
   "inputWidgetPreferences": null,
   "language": "python",
   "notebookMetadata": {
    "pythonIndentUnit": 4
   },
   "notebookName": "ipl_sample_check",
   "widgets": {}
  }
 },
 "nbformat": 4,
 "nbformat_minor": 0
}