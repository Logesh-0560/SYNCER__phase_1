{
 "cells": [
  {
   "cell_type": "markdown",
   "id": "43ac0321-c496-4ef8-9467-0562d41924e7",
   "metadata": {},
   "source": [
    "With the Data Structure concept of Dictionary using the looping concept "
   ]
  },
  {
   "cell_type": "code",
   "execution_count": 1,
   "id": "d19fbcad-1faf-4bda-9b22-d13c46b82f9e",
   "metadata": {},
   "outputs": [
    {
     "data": {
      "text/plain": [
       "dict"
      ]
     },
     "execution_count": 1,
     "metadata": {},
     "output_type": "execute_result"
    }
   ],
   "source": [
    "dic={}\n",
    "(type(dic))"
   ]
  },
  {
   "cell_type": "markdown",
   "id": "28440080-c444-40c4-8e6d-868c994ed11e",
   "metadata": {},
   "source": [
    "This is the first method to do print the dictionary in the for loop"
   ]
  },
  {
   "cell_type": "code",
   "execution_count": 2,
   "id": "e37b9342-4897-4180-aa17-3dbb5991363f",
   "metadata": {},
   "outputs": [
    {
     "name": "stdin",
     "output_type": "stream",
     "text": [
      "enter the fruit (Key) element: apple\n",
      "Enter the amount (value): 45\n",
      "enter the fruit (Key) element: banana\n",
      "Enter the amount (value): 80\n"
     ]
    },
    {
     "name": "stdout",
     "output_type": "stream",
     "text": [
      "final value= {'banana': 80}\n"
     ]
    }
   ],
   "source": [
    "my_dict={}\n",
    "\n",
    "for i in range(2):\n",
    "\n",
    "    arm=input(\"enter the fruit (Key) element:\")\n",
    "\n",
    "    value=int(input(\"Enter the amount (value):\"))\n",
    "\n",
    "my_dict[arm]=value\n",
    "#my_dict = {arm : value} \n",
    "\n",
    "print(\"final value=\",my_dict)"
   ]
  },
  {
   "cell_type": "code",
   "execution_count": 3,
   "id": "6a0db1bb-69c6-43e1-b005-c85c0b87151e",
   "metadata": {},
   "outputs": [
    {
     "name": "stdin",
     "output_type": "stream",
     "text": [
      "enter the fruit (Key) element apple\n",
      "Enter the amount (value): 55\n",
      "enter the fruit (Key) element banana\n",
      "Enter the amount (value): 90\n",
      "enter the fruit (Key) element papaya\n",
      "Enter the amount (value): 60\n"
     ]
    },
    {
     "name": "stdout",
     "output_type": "stream",
     "text": [
      "final value= {'apple': [55], 'banana': [90], 'papaya': 60}\n"
     ]
    }
   ],
   "source": [
    "my_dict={}\n",
    "\n",
    "for i in range(3):\n",
    "\n",
    "    arm=input(\"enter the fruit (Key) element\")\n",
    "\n",
    "    value=int(input(\"Enter the amount (value):\"))\n",
    "    \n",
    "    if arm in my_dict:\n",
    "        my_dict[arm].append(value) \n",
    "    else:\n",
    "        my_dict[arm] = [value]\n",
    "        \n",
    "my_dict[arm]=value\n",
    "\n",
    "#my_dict = {arm : value} \n",
    "\n",
    "print(\"final value=\",my_dict)\n",
    "\n"
   ]
  },
  {
   "cell_type": "code",
   "execution_count": null,
   "id": "8235432f-a1d3-4525-b6c5-01d5cf1038e5",
   "metadata": {},
   "outputs": [],
   "source": []
  }
 ],
 "metadata": {
  "kernelspec": {
   "display_name": "Python 3 (ipykernel)",
   "language": "python",
   "name": "python3"
  },
  "language_info": {
   "codemirror_mode": {
    "name": "ipython",
    "version": 3
   },
   "file_extension": ".py",
   "mimetype": "text/x-python",
   "name": "python",
   "nbconvert_exporter": "python",
   "pygments_lexer": "ipython3",
   "version": "3.12.7"
  }
 },
 "nbformat": 4,
 "nbformat_minor": 5
}
