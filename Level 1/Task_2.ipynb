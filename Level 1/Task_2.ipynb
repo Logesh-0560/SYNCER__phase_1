{
 "cells": [
  {
   "cell_type": "markdown",
   "id": "2679566a-3e47-4c49-9eed-f87eda98bf85",
   "metadata": {},
   "source": [
    "Playing with the Arrays of numpy pandas"
   ]
  },
  {
   "cell_type": "code",
   "execution_count": null,
   "id": "048f17d7-b8e4-468c-ac9b-a6ddf0c9effb",
   "metadata": {},
   "outputs": [
    {
     "data": {
      "text/plain": [
       "['3', '4', '5', '6', '7', '8', '9', '1', '2']"
      ]
     },
     "execution_count": 1,
     "metadata": {},
     "output_type": "execute_result"
    }
   ],
   "source": [
    "\n",
    "import numpy as np\n",
    "\n",
    "Vic=[\"3\",\"4\",\"5\",\"6\",\"7\",\"8\",\"9\",\"1\",\"2\"]\n",
    "Vic"
   ]
  },
  {
   "cell_type": "code",
   "execution_count": 2,
   "id": "62a4686e-4fe2-43b9-8aea-fcc56b6f1b68",
   "metadata": {},
   "outputs": [],
   "source": [
    "array=np.arange(1,11)\n",
    "\n",
    "mean_num=np.mean(array)\n",
    "max_num=np.max(array)\n",
    "min_num=np.min(array)"
   ]
  },
  {
   "cell_type": "code",
   "execution_count": 3,
   "id": "df107d72-d4da-48f0-9bcc-85c5eb05e4e6",
   "metadata": {},
   "outputs": [
    {
     "name": "stdout",
     "output_type": "stream",
     "text": [
      "mean:5.5,max:10,min:1\n"
     ]
    }
   ],
   "source": [
    "print(f\"mean:{mean_num},max:{max_num},min:{min_num}\")"
   ]
  }
 ],
 "metadata": {
  "kernelspec": {
   "display_name": "Python 3 (ipykernel)",
   "language": "python",
   "name": "python3"
  },
  "language_info": {
   "codemirror_mode": {
    "name": "ipython",
    "version": 3
   },
   "file_extension": ".py",
   "mimetype": "text/x-python",
   "name": "python",
   "nbconvert_exporter": "python",
   "pygments_lexer": "ipython3",
   "version": "3.12.7"
  }
 },
 "nbformat": 4,
 "nbformat_minor": 5
}
