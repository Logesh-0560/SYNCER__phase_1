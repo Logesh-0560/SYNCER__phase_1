{
 "cells": [
  {
   "cell_type": "markdown",
   "id": "f3367244-2677-44a1-a3fd-82f74229517d",
   "metadata": {},
   "source": [
    "This is the beginner task 1 with the dictionary"
   ]
  },
  {
   "cell_type": "code",
   "execution_count": 1,
   "id": "b786c2ad-f452-46ad-9ce1-a208bbf55052",
   "metadata": {},
   "outputs": [
    {
     "name": "stdout",
     "output_type": "stream",
     "text": [
      "welcome to the new learning phase\n"
     ]
    }
   ],
   "source": [
    "print(\"welcome to the new learning phase\")"
   ]
  },
  {
   "cell_type": "code",
   "execution_count": 2,
   "id": "fb2670b3-b7b0-4933-9ba0-c77cffaf6339",
   "metadata": {},
   "outputs": [
    {
     "name": "stdout",
     "output_type": "stream",
     "text": [
      "50\n"
     ]
    }
   ],
   "source": [
    "a=5\n",
    "b=45\n",
    "\n",
    "c=a+b\n",
    "print(c)"
   ]
  },
  {
   "cell_type": "markdown",
   "id": "7e11e1ed-6b14-4918-ad3c-cfa661115d15",
   "metadata": {},
   "source": [
    "Task 2"
   ]
  },
  {
   "cell_type": "code",
   "execution_count": 3,
   "id": "62c91e87-6d22-478a-ae27-fafb537ca8a2",
   "metadata": {},
   "outputs": [
    {
     "data": {
      "text/plain": [
       "[28, 45, 59]"
      ]
     },
     "execution_count": 3,
     "metadata": {},
     "output_type": "execute_result"
    }
   ],
   "source": [
    "List=[28,45,59]\n",
    "List"
   ]
  },
  {
   "cell_type": "code",
   "execution_count": 4,
   "id": "bbc7e586-7f0a-4c58-90ef-98841d05c086",
   "metadata": {},
   "outputs": [
    {
     "data": {
      "text/plain": [
       "[28, 45, 59, 100]"
      ]
     },
     "execution_count": 4,
     "metadata": {},
     "output_type": "execute_result"
    }
   ],
   "source": [
    "List.append(100)\n",
    "List"
   ]
  },
  {
   "cell_type": "code",
   "execution_count": 5,
   "id": "9223b0c2-387f-40fa-8b51-24971f7beb3d",
   "metadata": {},
   "outputs": [
    {
     "data": {
      "text/plain": [
       "{34, 44, 66}"
      ]
     },
     "execution_count": 5,
     "metadata": {},
     "output_type": "execute_result"
    }
   ],
   "source": [
    "set_1={34,44,66}\n",
    "set_1"
   ]
  },
  {
   "cell_type": "code",
   "execution_count": 6,
   "id": "4259103e-0332-4b4d-b1ad-75825ad8797f",
   "metadata": {},
   "outputs": [
    {
     "data": {
      "text/plain": [
       "(25, 1, 55)"
      ]
     },
     "execution_count": 6,
     "metadata": {},
     "output_type": "execute_result"
    }
   ],
   "source": [
    "tuple_2=(25,1,55)\n",
    "tuple_2"
   ]
  },
  {
   "cell_type": "code",
   "execution_count": 7,
   "id": "11ddcbaa-fe05-4456-a2d9-2327890ec8e7",
   "metadata": {},
   "outputs": [
    {
     "data": {
      "text/plain": [
       "{'lap1': ' hpvictus', 'lap2': 'asusvibo book', 'lap3': 'Acer nitro'}"
      ]
     },
     "execution_count": 7,
     "metadata": {},
     "output_type": "execute_result"
    }
   ],
   "source": [
    "dic={'lap1' : ' hpvictus' , 'lap2':'asusvibo book', 'lap3':'Acer nitro'}\n",
    "dic"
   ]
  },
  {
   "cell_type": "code",
   "execution_count": 8,
   "id": "fde2cebb-d677-41e4-80cf-be166ac9072e",
   "metadata": {},
   "outputs": [
    {
     "data": {
      "text/plain": [
       "{'lap1': ' hpvictus',\n",
       " 'lap2': 'asusvibo book',\n",
       " 'lap3': 'Acer nitro',\n",
       " 'lap4': 'Hp14s'}"
      ]
     },
     "execution_count": 8,
     "metadata": {},
     "output_type": "execute_result"
    }
   ],
   "source": [
    "dic[\"lap4\"]='Hp14s'\n",
    "dic"
   ]
  },
  {
   "cell_type": "code",
   "execution_count": null,
   "id": "15018c7d-4097-4800-9f6e-028e813cfeac",
   "metadata": {},
   "outputs": [],
   "source": []
  }
 ],
 "metadata": {
  "kernelspec": {
   "display_name": "Python 3 (ipykernel)",
   "language": "python",
   "name": "python3"
  },
  "language_info": {
   "codemirror_mode": {
    "name": "ipython",
    "version": 3
   },
   "file_extension": ".py",
   "mimetype": "text/x-python",
   "name": "python",
   "nbconvert_exporter": "python",
   "pygments_lexer": "ipython3",
   "version": "3.12.7"
  }
 },
 "nbformat": 4,
 "nbformat_minor": 5
}
