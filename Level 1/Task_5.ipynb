{
 "cells": [
  {
   "cell_type": "markdown",
   "id": "7b95aeb2-75ea-4fdc-b576-5e03802e16ad",
   "metadata": {},
   "source": [
    "doing task on the numpy matrix "
   ]
  },
  {
   "cell_type": "code",
   "execution_count": 1,
   "id": "4e6c0dc1-5004-4ff6-9ae1-d1b544a7ff77",
   "metadata": {},
   "outputs": [
    {
     "data": {
      "text/plain": [
       "array([[1, 2],\n",
       "       [5, 7]])"
      ]
     },
     "execution_count": 1,
     "metadata": {},
     "output_type": "execute_result"
    }
   ],
   "source": [
    "import numpy as np\n",
    "\n",
    "mat1=np.array([[1 ,2],[5 ,7]])\n",
    "mat1"
   ]
  },
  {
   "cell_type": "code",
   "execution_count": 2,
   "id": "4139688b-9c67-46b7-b43e-d0be0a533c8c",
   "metadata": {},
   "outputs": [
    {
     "data": {
      "text/plain": [
       "array([[4, 7],\n",
       "       [8, 6]])"
      ]
     },
     "execution_count": 2,
     "metadata": {},
     "output_type": "execute_result"
    }
   ],
   "source": [
    "mat2=np.array([[4,7],[8,6]])\n",
    "mat2"
   ]
  },
  {
   "cell_type": "code",
   "execution_count": 3,
   "id": "f3861ba2-18fa-4a28-a1d9-f6675c4ac66d",
   "metadata": {},
   "outputs": [
    {
     "data": {
      "text/plain": [
       "array([[ 4, 14],\n",
       "       [40, 42]])"
      ]
     },
     "execution_count": 3,
     "metadata": {},
     "output_type": "execute_result"
    }
   ],
   "source": [
    "multiply2mat = mat1 * mat2\n",
    "multiply2mat"
   ]
  },
  {
   "cell_type": "code",
   "execution_count": 4,
   "id": "ea14677a-305a-4c16-b171-001bc5aa9d29",
   "metadata": {},
   "outputs": [
    {
     "data": {
      "text/plain": [
       "array([[20, 19],\n",
       "       [76, 77]])"
      ]
     },
     "execution_count": 4,
     "metadata": {},
     "output_type": "execute_result"
    }
   ],
   "source": [
    "usedot=np.dot(mat1,mat2)\n",
    "usedot"
   ]
  },
  {
   "cell_type": "code",
   "execution_count": 5,
   "id": "7ef26374-3993-4995-bc47-82aa2b060bae",
   "metadata": {},
   "outputs": [
    {
     "data": {
      "text/plain": [
       "array([[ 5,  9],\n",
       "       [13, 13]])"
      ]
     },
     "execution_count": 5,
     "metadata": {},
     "output_type": "execute_result"
    }
   ],
   "source": [
    "useadd=mat1 + mat2\n",
    "useadd"
   ]
  },
  {
   "cell_type": "code",
   "execution_count": 6,
   "id": "90ae65a4-903b-48e4-8da7-1a1f708770b5",
   "metadata": {},
   "outputs": [
    {
     "data": {
      "text/plain": [
       "array([[20, 19],\n",
       "       [76, 77]])"
      ]
     },
     "execution_count": 6,
     "metadata": {},
     "output_type": "execute_result"
    }
   ],
   "source": [
    "matrixat=mat1@mat2 \n",
    "matrixat"
   ]
  },
  {
   "cell_type": "code",
   "execution_count": 7,
   "id": "cc07a8a2-ea21-499c-93c8-8b8ce5c2cc95",
   "metadata": {},
   "outputs": [
    {
     "name": "stdout",
     "output_type": "stream",
     "text": [
      "multiply :[[ 4 14]\n",
      " [40 42]] dotfunction : [[20 19]\n",
      " [76 77]]\n"
     ]
    }
   ],
   "source": [
    "print(f\"multiply :{multiply2mat} dotfunction : {usedot}\")"
   ]
  }
 ],
 "metadata": {
  "kernelspec": {
   "display_name": "Python 3",
   "language": "python",
   "name": "python3"
  },
  "language_info": {
   "codemirror_mode": {
    "name": "ipython",
    "version": 3
   },
   "file_extension": ".py",
   "mimetype": "text/x-python",
   "name": "python",
   "nbconvert_exporter": "python",
   "pygments_lexer": "ipython3",
   "version": "3.13.3"
  }
 },
 "nbformat": 4,
 "nbformat_minor": 5
}
