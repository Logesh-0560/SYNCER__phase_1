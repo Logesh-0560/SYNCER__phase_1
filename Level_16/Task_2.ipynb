{
 "cells": [
  {
   "cell_type": "code",
   "execution_count": 0,
   "metadata": {
    "application/vnd.databricks.v1+cell": {
     "cellMetadata": {
      "byteLimit": 2048000,
      "rowLimit": 10000
     },
     "inputWidgets": {},
     "nuid": "0cd5c90e-6f35-4466-a04c-27cf2f6cc5d6",
     "showTitle": false,
     "tableResultSettingsMap": {},
     "title": ""
    }
   },
   "outputs": [
    {
     "output_type": "stream",
     "name": "stdout",
     "output_type": "stream",
     "text": [
      "root\n |-- year: string (nullable = true)\n |-- series_type: string (nullable = true)\n |-- series_name: string (nullable = true)\n |-- match_no: string (nullable = true)\n |-- match_type: string (nullable = true)\n |-- match_id: string (nullable = true)\n |-- match_venue: string (nullable = true)\n |-- match_status: string (nullable = true)\n |-- match_winning_team: string (nullable = true)\n |-- match_tie_breaker: string (nullable = true)\n |-- match_toss: string (nullable = true)\n |-- umpires: string (nullable = true)\n |-- match_referee: string (nullable = true)\n |-- third_umpires: string (nullable = true)\n |-- match_datetime: string (nullable = true)\n |-- team1_name: string (nullable = true)\n |-- team2_name: string (nullable = true)\n |-- team1_score: string (nullable = true)\n |-- team1_wickets: string (nullable = true)\n |-- team2_score: string (nullable = true)\n |-- team2_wickets: string (nullable = true)\n |-- team1_captain: string (nullable = true)\n |-- team1_players: string (nullable = true)\n |-- team1_bench: string (nullable = true)\n |-- team1_support_staff: string (nullable = true)\n |-- team2_captain: string (nullable = true)\n |-- team2_players: string (nullable = true)\n |-- team2_bench: string (nullable = true)\n |-- team2_support_staff: string (nullable = true)\n |-- over_no: string (nullable = true)\n |-- over_total_runs: string (nullable = true)\n |-- over_summary: string (nullable = true)\n |-- over_batsman1_name: string (nullable = true)\n |-- over_batsman1_curr_scr: string (nullable = true)\n |-- over_batsman1_played_balls: string (nullable = true)\n |-- over_batsman2_name: string (nullable = true)\n |-- over_batsman2_curr_scr: string (nullable = true)\n |-- over_batsman2_played_balls: string (nullable = true)\n |-- over_bowler_name: string (nullable = true)\n |-- over_bowler_bowled_overs: string (nullable = true)\n |-- over_bowler_bowled_maidens: string (nullable = true)\n |-- over_bowler_bowled_runs: string (nullable = true)\n |-- over_bowler_bowled_wickets: string (nullable = true)\n\n+----+-----------+--------------------+---------+----------+--------+--------------------+------------+--------------------+-----------------+--------------------+--------------------+--------------------+--------------------+--------------------+----------+----------+-----------+-------------+-----------+-------------+-------------+-------------+--------------------+-------------------+-------------+-------------+--------------------+-------------------+-------+---------------+------------+------------------+----------------------+--------------------------+------------------+----------------------+--------------------------+----------------+------------------------+--------------------------+-----------------------+--------------------------+\n|year|series_type|         series_name| match_no|match_type|match_id|         match_venue|match_status|  match_winning_team|match_tie_breaker|          match_toss|             umpires|       match_referee|       third_umpires|      match_datetime|team1_name|team2_name|team1_score|team1_wickets|team2_score|team2_wickets|team1_captain|team1_players|         team1_bench|team1_support_staff|team2_captain|team2_players|         team2_bench|team2_support_staff|over_no|over_total_runs|over_summary|over_batsman1_name|over_batsman1_curr_scr|over_batsman1_played_balls|over_batsman2_name|over_batsman2_curr_scr|over_batsman2_played_balls|over_bowler_name|over_bowler_bowled_overs|over_bowler_bowled_maidens|over_bowler_bowled_runs|over_bowler_bowled_wickets|\n+----+-----------+--------------------+---------+----------+--------+--------------------+------------+--------------------+-----------------+--------------------+--------------------+--------------------+--------------------+--------------------+----------+----------+-----------+-------------+-----------+-------------+-------------+-------------+--------------------+-------------------+-------------+-------------+--------------------+-------------------+-------+---------------+------------+------------------+----------------------+--------------------------+------------------+----------------------+--------------------------+----------------+------------------------+--------------------------+-----------------------+--------------------------+\n|2021| T20 League|Indian Premier Le...|1st Match|   T20 IPL|   35612|{'stadium': 'MA C...|   completed|Royal Challengers...|             null|Royal Challengers...|KN Anantha Padman...|Vengalil Narayana...|Chettithody Shams...|2021-04-09 19:30:...|        MI|       RCB|        159|            9|        160|            8|         null|           []|Nathan Coulter-Ni...|               null|         null|           []|Adam Zampa, Devdu...|               null|      1|              5| 2 0 0 2 0 1|      Rohit Sharma|                     5|                         6|        Chris Lynn|                     0|                         0|  Mohammed Siraj|                       1|                         0|                      5|                         0|\n|2021| T20 League|Indian Premier Le...|1st Match|   T20 IPL|   35612|{'stadium': 'MA C...|   completed|Royal Challengers...|             null|Royal Challengers...|KN Anantha Padman...|Vengalil Narayana...|Chettithody Shams...|2021-04-09 19:30:...|        MI|       RCB|        159|            9|        160|            8|         null|           []|Nathan Coulter-Ni...|               null|         null|           []|Adam Zampa, Devdu...|               null|      2|              1| 1 0 0 0 0 0|        Chris Lynn|                     0|                         5|      Rohit Sharma|                     6|                         7|   Kyle Jamieson|                       1|                         0|                      1|                         0|\n|2021| T20 League|Indian Premier Le...|1st Match|   T20 IPL|   35612|{'stadium': 'MA C...|   completed|Royal Challengers...|             null|Royal Challengers...|KN Anantha Padman...|Vengalil Narayana...|Chettithody Shams...|2021-04-09 19:30:...|        MI|       RCB|        159|            9|        160|            8|         null|           []|Nathan Coulter-Ni...|               null|         null|           []|Adam Zampa, Devdu...|               null|      3|              6| 0 0 0 0 4 2|      Rohit Sharma|                    12|                        13|        Chris Lynn|                     0|                         5|  Mohammed Siraj|                       2|                         0|                     11|                         0|\n|2021| T20 League|Indian Premier Le...|1st Match|   T20 IPL|   35612|{'stadium': 'MA C...|   completed|Royal Challengers...|             null|Royal Challengers...|KN Anantha Padman...|Vengalil Narayana...|Chettithody Shams...|2021-04-09 19:30:...|        MI|       RCB|        159|            9|        160|            8|         null|           []|Nathan Coulter-Ni...|               null|         null|           []|Adam Zampa, Devdu...|               null|      4|             12| 0 4 1 6 1 W|        Chris Lynn|                     5|                         9|      Rohit Sharma|                    19|                        15|Yuzvendra Chahal|                       1|                         0|                     12|                         0|\n|2021| T20 League|Indian Premier Le...|1st Match|   T20 IPL|   35612|{'stadium': 'MA C...|   completed|Royal Challengers...|             null|Royal Challengers...|KN Anantha Padman...|Vengalil Narayana...|Chettithody Shams...|2021-04-09 19:30:...|        MI|       RCB|        159|            9|        160|            8|         null|           []|Nathan Coulter-Ni...|               null|         null|           []|Adam Zampa, Devdu...|               null|      5|              6| 4 0 1 1 0 0|  Suryakumar Yadav|                     5|                         5|        Chris Lynn|                     6|                        10|   Kyle Jamieson|                       2|                         0|                      7|                         0|\n+----+-----------+--------------------+---------+----------+--------+--------------------+------------+--------------------+-----------------+--------------------+--------------------+--------------------+--------------------+--------------------+----------+----------+-----------+-------------+-----------+-------------+-------------+-------------+--------------------+-------------------+-------------+-------------+--------------------+-------------------+-------+---------------+------------+------------------+----------------------+--------------------------+------------------+----------------------+--------------------------+----------------+------------------------+--------------------------+-----------------------+--------------------------+\nonly showing top 5 rows\n\n"
     ]
    }
   ],
   "source": [
    "ipl_overdata_df = spark.read.option(\"header\", True)\\\n",
    "    .option(\"inferSchema\", False)\\\n",
    "    .csv(\"/FileStore/tables/ipl_over_data.csv\")\n",
    "\n",
    "ipl_overdata_df.printSchema()\n",
    "ipl_overdata_df.show(5)\n"
   ]
  },
  {
   "cell_type": "code",
   "execution_count": 0,
   "metadata": {
    "application/vnd.databricks.v1+cell": {
     "cellMetadata": {
      "byteLimit": 2048000,
      "rowLimit": 10000
     },
     "inputWidgets": {},
     "nuid": "4864b766-c8a3-4562-9ad3-c20b5e4c3d50",
     "showTitle": false,
     "tableResultSettingsMap": {},
     "title": ""
    }
   },
   "outputs": [
    {
     "output_type": "stream",
     "name": "stdout",
     "output_type": "stream",
     "text": [
      "+----+-----------+--------------------+---------+----------+--------+--------------------+------------+--------------------+-----------------+--------------------+--------------------+--------------------+--------------------+--------------------+----------+----------+-----------+-------------+-----------+-------------+-------------+-------------+--------------------+-------------------+-------------+-------------+--------------------+-------------------+-------+---------------+--------------+------------------+----------------------+--------------------------+------------------+----------------------+--------------------------+-----------------+------------------------+--------------------------+-----------------------+--------------------------+\n|year|series_type|         series_name| match_no|match_type|match_id|         match_venue|match_status|  match_winning_team|match_tie_breaker|          match_toss|             umpires|       match_referee|       third_umpires|      match_datetime|team1_name|team2_name|team1_score|team1_wickets|team2_score|team2_wickets|team1_captain|team1_players|         team1_bench|team1_support_staff|team2_captain|team2_players|         team2_bench|team2_support_staff|over_no|over_total_runs|  over_summary|over_batsman1_name|over_batsman1_curr_scr|over_batsman1_played_balls|over_batsman2_name|over_batsman2_curr_scr|over_batsman2_played_balls| over_bowler_name|over_bowler_bowled_overs|over_bowler_bowled_maidens|over_bowler_bowled_runs|over_bowler_bowled_wickets|\n+----+-----------+--------------------+---------+----------+--------+--------------------+------------+--------------------+-----------------+--------------------+--------------------+--------------------+--------------------+--------------------+----------+----------+-----------+-------------+-----------+-------------+-------------+-------------+--------------------+-------------------+-------------+-------------+--------------------+-------------------+-------+---------------+--------------+------------------+----------------------+--------------------------+------------------+----------------------+--------------------------+-----------------+------------------------+--------------------------+-----------------------+--------------------------+\n|2021| T20 League|Indian Premier Le...|1st Match|   T20 IPL|   35612|{'stadium': 'MA C...|   completed|Royal Challengers...|             null|Royal Challengers...|KN Anantha Padman...|Vengalil Narayana...|Chettithody Shams...|2021-04-09 19:30:...|        MI|       RCB|        159|            9|        160|            8|         null|           []|Nathan Coulter-Ni...|               null|         null|           []|Adam Zampa, Devdu...|               null|      1|              5|   2 0 0 2 0 1|      Rohit Sharma|                     5|                         6|        Chris Lynn|                     0|                         0|   Mohammed Siraj|                       1|                         0|                      5|                         0|\n|2021| T20 League|Indian Premier Le...|1st Match|   T20 IPL|   35612|{'stadium': 'MA C...|   completed|Royal Challengers...|             null|Royal Challengers...|KN Anantha Padman...|Vengalil Narayana...|Chettithody Shams...|2021-04-09 19:30:...|        MI|       RCB|        159|            9|        160|            8|         null|           []|Nathan Coulter-Ni...|               null|         null|           []|Adam Zampa, Devdu...|               null|      2|              1|   1 0 0 0 0 0|        Chris Lynn|                     0|                         5|      Rohit Sharma|                     6|                         7|    Kyle Jamieson|                       1|                         0|                      1|                         0|\n|2021| T20 League|Indian Premier Le...|1st Match|   T20 IPL|   35612|{'stadium': 'MA C...|   completed|Royal Challengers...|             null|Royal Challengers...|KN Anantha Padman...|Vengalil Narayana...|Chettithody Shams...|2021-04-09 19:30:...|        MI|       RCB|        159|            9|        160|            8|         null|           []|Nathan Coulter-Ni...|               null|         null|           []|Adam Zampa, Devdu...|               null|      3|              6|   0 0 0 0 4 2|      Rohit Sharma|                    12|                        13|        Chris Lynn|                     0|                         5|   Mohammed Siraj|                       2|                         0|                     11|                         0|\n|2021| T20 League|Indian Premier Le...|1st Match|   T20 IPL|   35612|{'stadium': 'MA C...|   completed|Royal Challengers...|             null|Royal Challengers...|KN Anantha Padman...|Vengalil Narayana...|Chettithody Shams...|2021-04-09 19:30:...|        MI|       RCB|        159|            9|        160|            8|         null|           []|Nathan Coulter-Ni...|               null|         null|           []|Adam Zampa, Devdu...|               null|      4|             12|   0 4 1 6 1 W|        Chris Lynn|                     5|                         9|      Rohit Sharma|                    19|                        15| Yuzvendra Chahal|                       1|                         0|                     12|                         0|\n|2021| T20 League|Indian Premier Le...|1st Match|   T20 IPL|   35612|{'stadium': 'MA C...|   completed|Royal Challengers...|             null|Royal Challengers...|KN Anantha Padman...|Vengalil Narayana...|Chettithody Shams...|2021-04-09 19:30:...|        MI|       RCB|        159|            9|        160|            8|         null|           []|Nathan Coulter-Ni...|               null|         null|           []|Adam Zampa, Devdu...|               null|      5|              6|   4 0 1 1 0 0|  Suryakumar Yadav|                     5|                         5|        Chris Lynn|                     6|                        10|    Kyle Jamieson|                       2|                         0|                      7|                         0|\n|2021| T20 League|Indian Premier Le...|1st Match|   T20 IPL|   35612|{'stadium': 'MA C...|   completed|Royal Challengers...|             null|Royal Challengers...|KN Anantha Padman...|Vengalil Narayana...|Chettithody Shams...|2021-04-09 19:30:...|        MI|       RCB|        159|            9|        160|            8|         null|           []|Nathan Coulter-Ni...|               null|         null|           []|Adam Zampa, Devdu...|               null|      6|             11|   0 6 0 1 0 4|  Suryakumar Yadav|                     9|                         7|        Chris Lynn|                    13|                        14| Yuzvendra Chahal|                       2|                         0|                     23|                         0|\n|2021| T20 League|Indian Premier Le...|1st Match|   T20 IPL|   35612|{'stadium': 'MA C...|   completed|Royal Challengers...|             null|Royal Challengers...|KN Anantha Padman...|Vengalil Narayana...|Chettithody Shams...|2021-04-09 19:30:...|        MI|       RCB|        159|            9|        160|            8|         null|           []|Nathan Coulter-Ni...|               null|         null|           []|Adam Zampa, Devdu...|               null|      7|             14|   1 1 4 6 1 1|  Suryakumar Yadav|                    11|                         9|        Chris Lynn|                    25|                        18|    Shahbaz Ahmed|                       1|                         0|                     14|                         0|\n|2021| T20 League|Indian Premier Le...|1st Match|   T20 IPL|   35612|{'stadium': 'MA C...|   completed|Royal Challengers...|             null|Royal Challengers...|KN Anantha Padman...|Vengalil Narayana...|Chettithody Shams...|2021-04-09 19:30:...|        MI|       RCB|        159|            9|        160|            8|         null|           []|Nathan Coulter-Ni...|               null|         null|           []|Adam Zampa, Devdu...|               null|      8|             15|N1 6 1 0 4 1 1|        Chris Lynn|                    33|                        21|  Suryakumar Yadav|                    17|                        13|    Harshal Patel|                       1|                         0|                     15|                         0|\n|2021| T20 League|Indian Premier Le...|1st Match|   T20 IPL|   35612|{'stadium': 'MA C...|   completed|Royal Challengers...|             null|Royal Challengers...|KN Anantha Padman...|Vengalil Narayana...|Chettithody Shams...|2021-04-09 19:30:...|        MI|       RCB|        159|            9|        160|            8|         null|           []|Nathan Coulter-Ni...|               null|         null|           []|Adam Zampa, Devdu...|               null|      9|             13|1 4 1 2 Wd 4 0|        Chris Lynn|                    40|                        25|  Suryakumar Yadav|                    22|                        15| Daniel Christian|                       1|                         0|                     13|                         0|\n|2021| T20 League|Indian Premier Le...|1st Match|   T20 IPL|   35612|{'stadium': 'MA C...|   completed|Royal Challengers...|             null|Royal Challengers...|KN Anantha Padman...|Vengalil Narayana...|Chettithody Shams...|2021-04-09 19:30:...|        MI|       RCB|        159|            9|        160|            8|         null|           []|Nathan Coulter-Ni...|               null|         null|           []|Adam Zampa, Devdu...|               null|     10|              3|   0 1 1 1 0 0|        Chris Lynn|                    41|                        28|  Suryakumar Yadav|                    24|                        18| Yuzvendra Chahal|                       3|                         0|                     26|                         0|\n|2021| T20 League|Indian Premier Le...|1st Match|   T20 IPL|   35612|{'stadium': 'MA C...|   completed|Royal Challengers...|             null|Royal Challengers...|KN Anantha Padman...|Vengalil Narayana...|Chettithody Shams...|2021-04-09 19:30:...|        MI|       RCB|        159|            9|        160|            8|         null|           []|Nathan Coulter-Ni...|               null|         null|           []|Adam Zampa, Devdu...|               null|     11|              8|   1 1 0 6 0 W|  Suryakumar Yadav|                    31|                        23|        Chris Lynn|                    42|                        29|    Kyle Jamieson|                       3|                         0|                     15|                         1|\n|2021| T20 League|Indian Premier Le...|1st Match|   T20 IPL|   35612|{'stadium': 'MA C...|   completed|Royal Challengers...|             null|Royal Challengers...|KN Anantha Padman...|Vengalil Narayana...|Chettithody Shams...|2021-04-09 19:30:...|        MI|       RCB|        159|            9|        160|            8|         null|           []|Nathan Coulter-Ni...|               null|         null|           []|Adam Zampa, Devdu...|               null|     12|              4|   1 0 1 0 1 1|      Ishan Kishan|                     2|                         3|        Chris Lynn|                    44|                        32|   Mohammed Siraj|                       3|                         0|                     15|                         0|\n|2021| T20 League|Indian Premier Le...|1st Match|   T20 IPL|   35612|{'stadium': 'MA C...|   completed|Royal Challengers...|             null|Royal Challengers...|KN Anantha Padman...|Vengalil Narayana...|Chettithody Shams...|2021-04-09 19:30:...|        MI|       RCB|        159|            9|        160|            8|         null|           []|Nathan Coulter-Ni...|               null|         null|           []|Adam Zampa, Devdu...|               null|     13|              7|   1 4 1 1 W 0|      Ishan Kishan|                     4|                         6|     Hardik Pandya|                     0|                         0|Washington Sundar|                       1|                         0|                      7|                         1|\n|2021| T20 League|Indian Premier Le...|1st Match|   T20 IPL|   35612|{'stadium': 'MA C...|   completed|Royal Challengers...|             null|Royal Challengers...|KN Anantha Padman...|Vengalil Narayana...|Chettithody Shams...|2021-04-09 19:30:...|        MI|       RCB|        159|            9|        160|            8|         null|           []|Nathan Coulter-Ni...|               null|         null|           []|Adam Zampa, Devdu...|               null|     14|             15|   1 2 6 4 1 1|     Hardik Pandya|                     2|                         2|      Ishan Kishan|                    17|                        10| Yuzvendra Chahal|                       4|                         0|                     41|                         0|\n|2021| T20 League|Indian Premier Le...|1st Match|   T20 IPL|   35612|{'stadium': 'MA C...|   completed|Royal Challengers...|             null|Royal Challengers...|KN Anantha Padman...|Vengalil Narayana...|Chettithody Shams...|2021-04-09 19:30:...|        MI|       RCB|        159|            9|        160|            8|         null|           []|Nathan Coulter-Ni...|               null|         null|           []|Adam Zampa, Devdu...|               null|     15|              8|   0 4 0 1 2 1|      Ishan Kishan|                    20|                        12|     Hardik Pandya|                     7|                         6| Daniel Christian|                       2|                         0|                     21|                         0|\n|2021| T20 League|Indian Premier Le...|1st Match|   T20 IPL|   35612|{'stadium': 'MA C...|   completed|Royal Challengers...|             null|Royal Challengers...|KN Anantha Padman...|Vengalil Narayana...|Chettithody Shams...|2021-04-09 19:30:...|        MI|       RCB|        159|            9|        160|            8|         null|           []|Nathan Coulter-Ni...|               null|         null|           []|Adam Zampa, Devdu...|               null|     16|              7|   0 1 2 4 0 W|     Hardik Pandya|                    13|                        10|      Ishan Kishan|                    21|                        14|    Harshal Patel|                       2|                         0|                     22|                         1|\n|2021| T20 League|Indian Premier Le...|1st Match|   T20 IPL|   35612|{'stadium': 'MA C...|   completed|Royal Challengers...|             null|Royal Challengers...|KN Anantha Padman...|Vengalil Narayana...|Chettithody Shams...|2021-04-09 19:30:...|        MI|       RCB|        159|            9|        160|            8|         null|           []|Nathan Coulter-Ni...|               null|         null|           []|Adam Zampa, Devdu...|               null|     17|              7|Wd 4 1 0 0 1 0|      Ishan Kishan|                    26|                        17|    Kieron Pollard|                     1|                         3|   Mohammed Siraj|                       4|                         0|                     22|                         0|\n|2021| T20 League|Indian Premier Le...|1st Match|   T20 IPL|   35612|{'stadium': 'MA C...|   completed|Royal Challengers...|             null|Royal Challengers...|KN Anantha Padman...|Vengalil Narayana...|Chettithody Shams...|2021-04-09 19:30:...|        MI|       RCB|        159|            9|        160|            8|         null|           []|Nathan Coulter-Ni...|               null|         null|           []|Adam Zampa, Devdu...|               null|     18|              4|   0 1 2 W 0 1|     Krunal Pandya|                     1|                         2|    Kieron Pollard|                     2|                         5|    Harshal Patel|                       3|                         0|                     26|                         2|\n|2021| T20 League|Indian Premier Le...|1st Match|   T20 IPL|   35612|{'stadium': 'MA C...|   completed|Royal Challengers...|             null|Royal Challengers...|KN Anantha Padman...|Vengalil Narayana...|Chettithody Shams...|2021-04-09 19:30:...|        MI|       RCB|        159|            9|        160|            8|         null|           []|Nathan Coulter-Ni...|               null|         null|           []|Adam Zampa, Devdu...|               null|     19|             12|1 1 N4 0 1 4 0|    Kieron Pollard|                     7|                         8|     Krunal Pandya|                     7|                         6|    Kyle Jamieson|                       4|                         0|                     27|                         1|\n|2021| T20 League|Indian Premier Le...|1st Match|   T20 IPL|   35612|{'stadium': 'MA C...|   completed|Royal Challengers...|             null|Royal Challengers...|KN Anantha Padman...|Vengalil Narayana...|Chettithody Shams...|2021-04-09 19:30:...|        MI|       RCB|        159|            9|        160|            8|         null|           []|Nathan Coulter-Ni...|               null|         null|           []|Adam Zampa, Devdu...|               null|     20|              1|  W W 0 W 0 W1|    Jasprit Bumrah|                     1|                         2|      Rahul Chahar|                     0|                         0|    Harshal Patel|                       4|                         0|                     27|                         5|\n+----+-----------+--------------------+---------+----------+--------+--------------------+------------+--------------------+-----------------+--------------------+--------------------+--------------------+--------------------+--------------------+----------+----------+-----------+-------------+-----------+-------------+-------------+-------------+--------------------+-------------------+-------------+-------------+--------------------+-------------------+-------+---------------+--------------+------------------+----------------------+--------------------------+------------------+----------------------+--------------------------+-----------------+------------------------+--------------------------+-----------------------+--------------------------+\nonly showing top 20 rows\n\nroot\n |-- year: string (nullable = true)\n |-- series_type: string (nullable = true)\n |-- series_name: string (nullable = true)\n |-- match_no: string (nullable = true)\n |-- match_type: string (nullable = true)\n |-- match_id: string (nullable = true)\n |-- match_venue: string (nullable = true)\n |-- match_status: string (nullable = true)\n |-- match_winning_team: string (nullable = true)\n |-- match_tie_breaker: string (nullable = true)\n |-- match_toss: string (nullable = true)\n |-- umpires: string (nullable = true)\n |-- match_referee: string (nullable = true)\n |-- third_umpires: string (nullable = true)\n |-- match_datetime: string (nullable = true)\n |-- team1_name: string (nullable = true)\n |-- team2_name: string (nullable = true)\n |-- team1_score: string (nullable = true)\n |-- team1_wickets: string (nullable = true)\n |-- team2_score: string (nullable = true)\n |-- team2_wickets: string (nullable = true)\n |-- team1_captain: string (nullable = true)\n |-- team1_players: string (nullable = true)\n |-- team1_bench: string (nullable = true)\n |-- team1_support_staff: string (nullable = true)\n |-- team2_captain: string (nullable = true)\n |-- team2_players: string (nullable = true)\n |-- team2_bench: string (nullable = true)\n |-- team2_support_staff: string (nullable = true)\n |-- over_no: string (nullable = true)\n |-- over_total_runs: string (nullable = true)\n |-- over_summary: string (nullable = true)\n |-- over_batsman1_name: string (nullable = true)\n |-- over_batsman1_curr_scr: string (nullable = true)\n |-- over_batsman1_played_balls: string (nullable = true)\n |-- over_batsman2_name: string (nullable = true)\n |-- over_batsman2_curr_scr: string (nullable = true)\n |-- over_batsman2_played_balls: string (nullable = true)\n |-- over_bowler_name: string (nullable = true)\n |-- over_bowler_bowled_overs: string (nullable = true)\n |-- over_bowler_bowled_maidens: string (nullable = true)\n |-- over_bowler_bowled_runs: string (nullable = true)\n |-- over_bowler_bowled_wickets: string (nullable = true)\n\n"
     ]
    }
   ],
   "source": [
    "ipl_overdata_df.show()\n",
    "ipl_overdata_df.printSchema()\n"
   ]
  },
  {
   "cell_type": "code",
   "execution_count": 0,
   "metadata": {
    "application/vnd.databricks.v1+cell": {
     "cellMetadata": {
      "byteLimit": 2048000,
      "rowLimit": 10000
     },
     "inputWidgets": {},
     "nuid": "1e0e7ab1-e957-4ce6-b964-823b9fb72ef1",
     "showTitle": false,
     "tableResultSettingsMap": {},
     "title": ""
    }
   },
   "outputs": [
    {
     "output_type": "stream",
     "name": "stdout",
     "output_type": "stream",
     "text": [
      "== Physical Plan ==\nFileScan csv [year#1456,series_type#1457,series_name#1458,match_no#1459,match_type#1460,match_id#1461,match_venue#1462,match_status#1463,match_winning_team#1464,match_tie_breaker#1465,match_toss#1466,umpires#1467,match_referee#1468,third_umpires#1469,match_datetime#1470,team1_name#1471,team2_name#1472,team1_score#1473,team1_wickets#1474,team2_score#1475,team2_wickets#1476,team1_captain#1477,team1_players#1478,team1_bench#1479,... 19 more fields] Batched: false, DataFilters: [], Format: CSV, Location: InMemoryFileIndex(1 paths)[dbfs:/FileStore/tables/ipl_over_data.csv], PartitionFilters: [], PushedFilters: [], ReadSchema: struct<year:string,series_type:string,series_name:string,match_no:string,match_type:string,match_...\n\n\n"
     ]
    }
   ],
   "source": [
    "\n",
    "ipl_overdata_df.explain(mode=\"simple\")\n"
   ]
  },
  {
   "cell_type": "code",
   "execution_count": 0,
   "metadata": {
    "application/vnd.databricks.v1+cell": {
     "cellMetadata": {
      "byteLimit": 2048000,
      "rowLimit": 10000
     },
     "inputWidgets": {},
     "nuid": "129a4177-0818-4de8-95d7-88597c6b05e2",
     "showTitle": false,
     "tableResultSettingsMap": {},
     "title": ""
    }
   },
   "outputs": [
    {
     "output_type": "stream",
     "name": "stdout",
     "output_type": "stream",
     "text": [
      "== Parsed Logical Plan ==\nRelation [year#1456,series_type#1457,series_name#1458,match_no#1459,match_type#1460,match_id#1461,match_venue#1462,match_status#1463,match_winning_team#1464,match_tie_breaker#1465,match_toss#1466,umpires#1467,match_referee#1468,third_umpires#1469,match_datetime#1470,team1_name#1471,team2_name#1472,team1_score#1473,team1_wickets#1474,team2_score#1475,team2_wickets#1476,team1_captain#1477,team1_players#1478,team1_bench#1479,... 19 more fields] csv\n\n== Analyzed Logical Plan ==\nyear: string, series_type: string, series_name: string, match_no: string, match_type: string, match_id: string, match_venue: string, match_status: string, match_winning_team: string, match_tie_breaker: string, match_toss: string, umpires: string, match_referee: string, third_umpires: string, match_datetime: string, team1_name: string, team2_name: string, team1_score: string, team1_wickets: string, team2_score: string, team2_wickets: string, team1_captain: string, team1_players: string, team1_bench: string, ... 19 more fields\nRelation [year#1456,series_type#1457,series_name#1458,match_no#1459,match_type#1460,match_id#1461,match_venue#1462,match_status#1463,match_winning_team#1464,match_tie_breaker#1465,match_toss#1466,umpires#1467,match_referee#1468,third_umpires#1469,match_datetime#1470,team1_name#1471,team2_name#1472,team1_score#1473,team1_wickets#1474,team2_score#1475,team2_wickets#1476,team1_captain#1477,team1_players#1478,team1_bench#1479,... 19 more fields] csv\n\n== Optimized Logical Plan ==\nRelation [year#1456,series_type#1457,series_name#1458,match_no#1459,match_type#1460,match_id#1461,match_venue#1462,match_status#1463,match_winning_team#1464,match_tie_breaker#1465,match_toss#1466,umpires#1467,match_referee#1468,third_umpires#1469,match_datetime#1470,team1_name#1471,team2_name#1472,team1_score#1473,team1_wickets#1474,team2_score#1475,team2_wickets#1476,team1_captain#1477,team1_players#1478,team1_bench#1479,... 19 more fields] csv\n\n== Physical Plan ==\nFileScan csv [year#1456,series_type#1457,series_name#1458,match_no#1459,match_type#1460,match_id#1461,match_venue#1462,match_status#1463,match_winning_team#1464,match_tie_breaker#1465,match_toss#1466,umpires#1467,match_referee#1468,third_umpires#1469,match_datetime#1470,team1_name#1471,team2_name#1472,team1_score#1473,team1_wickets#1474,team2_score#1475,team2_wickets#1476,team1_captain#1477,team1_players#1478,team1_bench#1479,... 19 more fields] Batched: false, DataFilters: [], Format: CSV, Location: InMemoryFileIndex(1 paths)[dbfs:/FileStore/tables/ipl_over_data.csv], PartitionFilters: [], PushedFilters: [], ReadSchema: struct<year:string,series_type:string,series_name:string,match_no:string,match_type:string,match_...\n\n"
     ]
    }
   ],
   "source": [
    "ipl_overdata_df.explain(mode=\"extended\")\n"
   ]
  },
  {
   "cell_type": "code",
   "execution_count": 0,
   "metadata": {
    "application/vnd.databricks.v1+cell": {
     "cellMetadata": {
      "byteLimit": 2048000,
      "rowLimit": 10000
     },
     "inputWidgets": {},
     "nuid": "5dc80329-8fb2-48c8-a22d-aabd22ec3066",
     "showTitle": false,
     "tableResultSettingsMap": {},
     "title": ""
    }
   },
   "outputs": [
    {
     "output_type": "stream",
     "name": "stdout",
     "output_type": "stream",
     "text": [
      "Found 0 WholeStageCodegen subtrees.\n\n"
     ]
    }
   ],
   "source": [
    "ipl_overdata_df.explain(mode=\"codegen\")"
   ]
  },
  {
   "cell_type": "code",
   "execution_count": 0,
   "metadata": {
    "application/vnd.databricks.v1+cell": {
     "cellMetadata": {
      "byteLimit": 2048000,
      "rowLimit": 10000
     },
     "inputWidgets": {},
     "nuid": "39f7314b-1698-40c2-87d1-1b885b9b8974",
     "showTitle": false,
     "tableResultSettingsMap": {},
     "title": ""
    }
   },
   "outputs": [
    {
     "output_type": "stream",
     "name": "stdout",
     "output_type": "stream",
     "text": [
      "== Optimized Logical Plan ==\nRelation [year#1456,series_type#1457,series_name#1458,match_no#1459,match_type#1460,match_id#1461,match_venue#1462,match_status#1463,match_winning_team#1464,match_tie_breaker#1465,match_toss#1466,umpires#1467,match_referee#1468,third_umpires#1469,match_datetime#1470,team1_name#1471,team2_name#1472,team1_score#1473,team1_wickets#1474,team2_score#1475,team2_wickets#1476,team1_captain#1477,team1_players#1478,team1_bench#1479,... 19 more fields] csv, Statistics(sizeInBytes=19.9 MiB)\n\n== Physical Plan ==\nFileScan csv [year#1456,series_type#1457,series_name#1458,match_no#1459,match_type#1460,match_id#1461,match_venue#1462,match_status#1463,match_winning_team#1464,match_tie_breaker#1465,match_toss#1466,umpires#1467,match_referee#1468,third_umpires#1469,match_datetime#1470,team1_name#1471,team2_name#1472,team1_score#1473,team1_wickets#1474,team2_score#1475,team2_wickets#1476,team1_captain#1477,team1_players#1478,team1_bench#1479,... 19 more fields] Batched: false, DataFilters: [], Format: CSV, Location: InMemoryFileIndex(1 paths)[dbfs:/FileStore/tables/ipl_over_data.csv], PartitionFilters: [], PushedFilters: [], ReadSchema: struct<year:string,series_type:string,series_name:string,match_no:string,match_type:string,match_...\n\n\n"
     ]
    }
   ],
   "source": [
    "ipl_overdata_df.explain(mode=\"cost\")"
   ]
  },
  {
   "cell_type": "code",
   "execution_count": 0,
   "metadata": {
    "application/vnd.databricks.v1+cell": {
     "cellMetadata": {
      "byteLimit": 2048000,
      "rowLimit": 10000
     },
     "inputWidgets": {},
     "nuid": "51caac22-5fa1-4dbe-8b9f-dea1d309058f",
     "showTitle": false,
     "tableResultSettingsMap": {},
     "title": ""
    }
   },
   "outputs": [
    {
     "output_type": "stream",
     "name": "stdout",
     "output_type": "stream",
     "text": [
      "== Physical Plan ==\nScan csv  (1)\n\n\n(1) Scan csv \nOutput [43]: [year#1456, series_type#1457, series_name#1458, match_no#1459, match_type#1460, match_id#1461, match_venue#1462, match_status#1463, match_winning_team#1464, match_tie_breaker#1465, match_toss#1466, umpires#1467, match_referee#1468, third_umpires#1469, match_datetime#1470, team1_name#1471, team2_name#1472, team1_score#1473, team1_wickets#1474, team2_score#1475, team2_wickets#1476, team1_captain#1477, team1_players#1478, team1_bench#1479, team1_support_staff#1480, team2_captain#1481, team2_players#1482, team2_bench#1483, team2_support_staff#1484, over_no#1485, over_total_runs#1486, over_summary#1487, over_batsman1_name#1488, over_batsman1_curr_scr#1489, over_batsman1_played_balls#1490, over_batsman2_name#1491, over_batsman2_curr_scr#1492, over_batsman2_played_balls#1493, over_bowler_name#1494, over_bowler_bowled_overs#1495, over_bowler_bowled_maidens#1496, over_bowler_bowled_runs#1497, over_bowler_bowled_wickets#1498]\nBatched: false\nLocation: InMemoryFileIndex [dbfs:/FileStore/tables/ipl_over_data.csv]\nReadSchema: struct<year:string,series_type:string,series_name:string,match_no:string,match_type:string,match_id:string,match_venue:string,match_status:string,match_winning_team:string,match_tie_breaker:string,match_toss:string,umpires:string,match_referee:string,third_umpires:string,match_datetime:string,team1_name:string,team2_name:string,team1_score:string,team1_wickets:string,team2_score:string,team2_wickets:string,team1_captain:string,team1_players:string,team1_bench:string,team1_support_staff:string,team2_captain:string,team2_players:string,team2_bench:string,team2_support_staff:string,over_no:string,over_total_runs:string,over_summary:string,over_batsman1_name:string,over_batsman1_curr_scr:string,over_batsman1_played_balls:string,over_batsman2_name:string,over_batsman2_curr_scr:string,over_batsman2_played_balls:string,over_bowler_name:string,over_bowler_bowled_overs:string,over_bowler_bowled_maidens:string,over_bowler_bowled_runs:string,over_bowler_bowled_wickets:string>\n\n\n"
     ]
    }
   ],
   "source": [
    "ipl_overdata_df.explain(mode=\"formatted\")\n"
   ]
  },
  {
   "cell_type": "code",
   "execution_count": 0,
   "metadata": {
    "application/vnd.databricks.v1+cell": {
     "cellMetadata": {},
     "inputWidgets": {},
     "nuid": "3053a2bc-a2ea-4873-80e8-ff3680158107",
     "showTitle": false,
     "tableResultSettingsMap": {},
     "title": ""
    }
   },
   "outputs": [],
   "source": []
  }
 ],
 "metadata": {
  "application/vnd.databricks.v1+notebook": {
   "computePreferences": null,
   "dashboards": [],
   "environmentMetadata": {
    "base_environment": "",
    "environment_version": "1"
   },
   "inputWidgetPreferences": null,
   "language": "python",
   "notebookMetadata": {
    "pythonIndentUnit": 4
   },
   "notebookName": "ipl_sample_check",
   "widgets": {}
  }
 },
 "nbformat": 4,
 "nbformat_minor": 0
}