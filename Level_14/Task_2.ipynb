{
 "cells": [
  {
   "cell_type": "code",
   "execution_count": 2,
   "id": "014987f3-8336-4d8f-b3d0-f7f8779355bf",
   "metadata": {},
   "outputs": [
    {
     "name": "stdout",
     "output_type": "stream",
     "text": [
      "Empty DataFrame\n",
      "Columns: []\n",
      "Index: []\n"
     ]
    }
   ],
   "source": [
    "from selenium import webdriver\n",
    "from selenium.webdriver.chrome.service import Service\n",
    "from bs4 import BeautifulSoup\n",
    "import pandas as pd\n",
    "import time\n",
    "\n",
    "chrome_path = r\"C:\\chromedriver.exe\"  # Update path if needed\n",
    "\n",
    "options = webdriver.ChromeOptions()\n",
    "options.add_argument('--headless')\n",
    "options.add_argument('--no-sandbox')\n",
    "options.add_argument('--disable-dev-shm-usage')\n",
    "driver = webdriver.Chrome(service=Service(chrome_path), options=options)\n",
    "\n",
    "url = \"https://www.cricbuzz.com/cricket-series/3472/indian-premier-league-2021/matches\"\n",
    "driver.get(url)\n",
    "time.sleep(3)\n",
    "\n",
    "soup = BeautifulSoup(driver.page_source, \"html.parser\")\n",
    "driver.quit()\n",
    "\n",
    "matches_data = []\n",
    "\n",
    "match_cards = soup.select(\"div.cb-col.cb-col-100.cb-ltst-wgt-hdr\")\n",
    "\n",
    "for card in match_cards:\n",
    "    rows = card.select(\"div.cb-col.cb-col-100.cb-scrd-itms\")\n",
    "\n",
    "    for row in rows:\n",
    "        series_name = \"Indian Premier League 2021\"\n",
    "        year = \"2021\"\n",
    "        series_type = \"T20\"\n",
    "\n",
    "        match_info_tag = row.find(\"a\", class_=\"text-hvr-underline\")\n",
    "        if match_info_tag:\n",
    "            match_name = match_info_tag.text.strip()\n",
    "            match_href = \"https://www.cricbuzz.com\" + match_info_tag.get(\"href\", \"\")\n",
    "        else:\n",
    "            match_name = match_href = \"Unknown\"\n",
    "\n",
    "        match_teams = row.find_all(\"div\", class_=\"cb-ovr-flo cb-hmscg-tm-nm\")\n",
    "        match_team1 = match_teams[0].text.strip() if len(match_teams) > 0 else \"Unknown\"\n",
    "        match_team2 = match_teams[1].text.strip() if len(match_teams) > 1 else \"Unknown\"\n",
    "\n",
    "        match_status_tag = row.find(\"div\", class_=\"cb-ovr-flo cb-text-complete\")\n",
    "        match_status = match_status_tag.text.strip() if match_status_tag else \"Scheduled\"\n",
    "\n",
    "        date_venue_tag = row.find(\"div\", class_=\"cb-col-100 cb-col\")\n",
    "        if date_venue_tag:\n",
    "            date_venue_text = date_venue_tag.text.strip().split(\",\")\n",
    "            match_datetime_start = date_venue_text[0].strip() if len(date_venue_text) > 0 else \"Unknown\"\n",
    "            match_venue = \",\".join(date_venue_text[1:]).strip() if len(date_venue_text) > 1 else \"Unknown\"\n",
    "        else:\n",
    "            match_datetime_start = match_venue = \"Unknown\"\n",
    "\n",
    "        matches_data.append({\n",
    "            \"year\": year,\n",
    "            \"series_type\": series_type,\n",
    "            \"series_name\": series_name,\n",
    "            \"match_name\": match_name,\n",
    "            \"match_href\": match_href,\n",
    "            \"match_team1\": match_team1,\n",
    "            \"match_team2\": match_team2,\n",
    "            \"match_status\": match_status,\n",
    "            \"match_datetime_start\": match_datetime_start,\n",
    "            \"match_venue\": match_venue\n",
    "        })\n",
    "\n",
    "# Create DataFrame and save\n",
    "df = pd.DataFrame(matches_data)\n",
    "print(df.head())\n",
    "df.to_csv(\"ipl_2021_matches.csv\", index=False)\n"
   ]
  },
  {
   "cell_type": "code",
   "execution_count": null,
   "id": "3ba2c5cc-856e-4419-bb68-3383c7791df2",
   "metadata": {},
   "outputs": [],
   "source": []
  }
 ],
 "metadata": {
  "kernelspec": {
   "display_name": "Python 3 (ipykernel)",
   "language": "python",
   "name": "python3"
  },
  "language_info": {
   "codemirror_mode": {
    "name": "ipython",
    "version": 3
   },
   "file_extension": ".py",
   "mimetype": "text/x-python",
   "name": "python",
   "nbconvert_exporter": "python",
   "pygments_lexer": "ipython3",
   "version": "3.12.7"
  }
 },
 "nbformat": 4,
 "nbformat_minor": 5
}
