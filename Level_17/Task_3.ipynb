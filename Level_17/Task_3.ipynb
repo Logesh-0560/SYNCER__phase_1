{
 "cells": [
  {
   "cell_type": "code",
   "execution_count": 0,
   "metadata": {
    "application/vnd.databricks.v1+cell": {
     "cellMetadata": {
      "byteLimit": 2048000,
      "rowLimit": 10000
     },
     "inputWidgets": {},
     "nuid": "f999e7e9-9015-49de-93e6-abb0a3425ccb",
     "showTitle": false,
     "tableResultSettingsMap": {},
     "title": ""
    }
   },
   "outputs": [],
   "source": [
    "df=spark.read.option(\"header\",True).csv(\"dbfs:/FileStore/shared_uploads/logeshbtech0560@gmail.com/ipl_commentary_data.csv\")"
   ]
  },
  {
   "cell_type": "code",
   "execution_count": 0,
   "metadata": {
    "application/vnd.databricks.v1+cell": {
     "cellMetadata": {
      "byteLimit": 2048000,
      "rowLimit": 10000
     },
     "inputWidgets": {},
     "nuid": "25137d0a-5ecf-472e-b9e2-822c0fdfd3dc",
     "showTitle": false,
     "tableResultSettingsMap": {},
     "title": ""
    }
   },
   "outputs": [
    {
     "output_type": "stream",
     "name": "stdout",
     "output_type": "stream",
     "text": [
      "+------------+\n|match_status|\n+------------+\n|completed   |\n|null        |\n|tied        |\n+------------+\n\n"
     ]
    }
   ],
   "source": [
    "df.select(\"match_status\").distinct().show(truncate=False)\n"
   ]
  },
  {
   "cell_type": "code",
   "execution_count": 0,
   "metadata": {
    "application/vnd.databricks.v1+cell": {
     "cellMetadata": {
      "byteLimit": 2048000,
      "rowLimit": 10000
     },
     "inputWidgets": {},
     "nuid": "e2af6ab3-d515-483b-b138-aa0983590fa5",
     "showTitle": false,
     "tableResultSettingsMap": {},
     "title": ""
    }
   },
   "outputs": [
    {
     "output_type": "stream",
     "name": "stdout",
     "output_type": "stream",
     "text": [
      "+---------------------+\n|match_tie_breaker    |\n+---------------------+\n|Super Over           |\n|one - over eliminator|\n|2nd Super Over       |\n+---------------------+\n\n"
     ]
    }
   ],
   "source": [
    "from pyspark.sql.functions import lower, trim\n",
    "\n",
    "tie_breakers = df.filter(lower(trim(col(\"match_status\"))) == \"tied\") \\\n",
    "                 .select(\"match_tie_breaker\") \\\n",
    "                 .distinct()\n",
    "\n",
    "tie_breakers.show(truncate=False)\n"
   ]
  },
  {
   "cell_type": "code",
   "execution_count": 0,
   "metadata": {
    "application/vnd.databricks.v1+cell": {
     "cellMetadata": {
      "byteLimit": 2048000,
      "rowLimit": 10000
     },
     "inputWidgets": {},
     "nuid": "23661f52-07dc-4fec-9caf-b2c684324d83",
     "showTitle": false,
     "tableResultSettingsMap": {},
     "title": ""
    }
   },
   "outputs": [
    {
     "output_type": "stream",
     "name": "stdout",
     "output_type": "stream",
     "text": [
      "+---------------------+-----+\n|match_tie_breaker    |count|\n+---------------------+-----+\n|Super Over           |1480 |\n|one - over eliminator|250  |\n|2nd Super Over       |245  |\n+---------------------+-----+\n\n"
     ]
    }
   ],
   "source": [
    "tie_breakers_count = df.filter(lower(trim(col(\"match_status\"))) == \"tied\") \\\n",
    "                       .filter(col(\"match_tie_breaker\").isNotNull()) \\\n",
    "                       .groupBy(\"match_tie_breaker\") \\\n",
    "                       .count()\n",
    "\n",
    "tie_breakers_count.show(truncate=False)\n"
   ]
  },
  {
   "cell_type": "code",
   "execution_count": 0,
   "metadata": {
    "application/vnd.databricks.v1+cell": {
     "cellMetadata": {
      "byteLimit": 2048000,
      "rowLimit": 10000
     },
     "inputWidgets": {},
     "nuid": "d5b67dc3-f8e1-451a-a081-cd39f2c71f9b",
     "showTitle": false,
     "tableResultSettingsMap": {},
     "title": ""
    }
   },
   "outputs": [
    {
     "output_type": "stream",
     "name": "stdout",
     "output_type": "stream",
     "text": [
      "Out[7]: 3"
     ]
    }
   ],
   "source": [
    "tie_breakers_count.count()"
   ]
  },
  {
   "cell_type": "code",
   "execution_count": 0,
   "metadata": {
    "application/vnd.databricks.v1+cell": {
     "cellMetadata": {},
     "inputWidgets": {},
     "nuid": "cd8eb6eb-4872-4627-a8c5-61acd59d3742",
     "showTitle": false,
     "tableResultSettingsMap": {},
     "title": ""
    }
   },
   "outputs": [],
   "source": []
  }
 ],
 "metadata": {
  "application/vnd.databricks.v1+notebook": {
   "computePreferences": null,
   "dashboards": [],
   "environmentMetadata": {
    "base_environment": "",
    "environment_version": "1"
   },
   "inputWidgetPreferences": null,
   "language": "python",
   "notebookMetadata": {
    "pythonIndentUnit": 4
   },
   "notebookName": "DA_L17_03",
   "widgets": {}
  }
 },
 "nbformat": 4,
 "nbformat_minor": 0
}