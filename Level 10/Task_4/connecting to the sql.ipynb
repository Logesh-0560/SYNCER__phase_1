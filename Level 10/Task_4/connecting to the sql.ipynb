{
 "cells": [
  {
   "cell_type": "code",
   "execution_count": 1,
   "id": "fd1bc778-42ba-4cd5-8e06-24bd053e83bc",
   "metadata": {},
   "outputs": [
    {
     "name": "stdout",
     "output_type": "stream",
     "text": [
      "Collecting mysql-connector-python\n",
      "  Downloading mysql_connector_python-9.2.0-cp312-cp312-win_amd64.whl.metadata (6.2 kB)\n",
      "Requirement already satisfied: pandas in c:\\users\\girish\\anaconda3\\lib\\site-packages (2.2.2)\n",
      "Requirement already satisfied: openpyxl in c:\\users\\girish\\anaconda3\\lib\\site-packages (3.1.5)\n",
      "Requirement already satisfied: SQLAlchemy in c:\\users\\girish\\anaconda3\\lib\\site-packages (2.0.34)\n",
      "Requirement already satisfied: numpy>=1.26.0 in c:\\users\\girish\\anaconda3\\lib\\site-packages (from pandas) (1.26.4)\n",
      "Requirement already satisfied: python-dateutil>=2.8.2 in c:\\users\\girish\\anaconda3\\lib\\site-packages (from pandas) (2.9.0.post0)\n",
      "Requirement already satisfied: pytz>=2020.1 in c:\\users\\girish\\anaconda3\\lib\\site-packages (from pandas) (2024.1)\n",
      "Requirement already satisfied: tzdata>=2022.7 in c:\\users\\girish\\anaconda3\\lib\\site-packages (from pandas) (2023.3)\n",
      "Requirement already satisfied: et-xmlfile in c:\\users\\girish\\anaconda3\\lib\\site-packages (from openpyxl) (1.1.0)\n",
      "Requirement already satisfied: typing-extensions>=4.6.0 in c:\\users\\girish\\anaconda3\\lib\\site-packages (from SQLAlchemy) (4.11.0)\n",
      "Requirement already satisfied: greenlet!=0.4.17 in c:\\users\\girish\\anaconda3\\lib\\site-packages (from SQLAlchemy) (3.0.1)\n",
      "Requirement already satisfied: six>=1.5 in c:\\users\\girish\\anaconda3\\lib\\site-packages (from python-dateutil>=2.8.2->pandas) (1.16.0)\n",
      "Downloading mysql_connector_python-9.2.0-cp312-cp312-win_amd64.whl (16.1 MB)\n",
      "   ---------------------------------------- 0.0/16.1 MB ? eta -:--:--\n",
      "   ---------------------------------------- 0.0/16.1 MB ? eta -:--:--\n",
      "    --------------------------------------- 0.3/16.1 MB ? eta -:--:--\n",
      "    --------------------------------------- 0.3/16.1 MB ? eta -:--:--\n",
      "   - -------------------------------------- 0.5/16.1 MB 598.5 kB/s eta 0:00:27\n",
      "   - -------------------------------------- 0.5/16.1 MB 598.5 kB/s eta 0:00:27\n",
      "   - -------------------------------------- 0.8/16.1 MB 588.4 kB/s eta 0:00:27\n",
      "   -- ------------------------------------- 1.0/16.1 MB 671.0 kB/s eta 0:00:23\n",
      "   --- ------------------------------------ 1.3/16.1 MB 871.6 kB/s eta 0:00:17\n",
      "   --- ------------------------------------ 1.6/16.1 MB 847.3 kB/s eta 0:00:18\n",
      "   --- ------------------------------------ 1.6/16.1 MB 847.3 kB/s eta 0:00:18\n",
      "   ----- ---------------------------------- 2.1/16.1 MB 931.9 kB/s eta 0:00:16\n",
      "   ----- ---------------------------------- 2.4/16.1 MB 1.0 MB/s eta 0:00:14\n",
      "   ------ --------------------------------- 2.6/16.1 MB 986.7 kB/s eta 0:00:14\n",
      "   ------- -------------------------------- 3.1/16.1 MB 1.1 MB/s eta 0:00:12\n",
      "   -------- ------------------------------- 3.4/16.1 MB 1.1 MB/s eta 0:00:12\n",
      "   --------- ------------------------------ 3.7/16.1 MB 1.1 MB/s eta 0:00:11\n",
      "   ---------- ----------------------------- 4.2/16.1 MB 1.2 MB/s eta 0:00:10\n",
      "   ------------ --------------------------- 5.0/16.1 MB 1.3 MB/s eta 0:00:09\n",
      "   ------------ --------------------------- 5.0/16.1 MB 1.3 MB/s eta 0:00:09\n",
      "   ------------- -------------------------- 5.2/16.1 MB 1.3 MB/s eta 0:00:09\n",
      "   ------------- -------------------------- 5.2/16.1 MB 1.3 MB/s eta 0:00:09\n",
      "   ------------- -------------------------- 5.5/16.1 MB 1.2 MB/s eta 0:00:09\n",
      "   -------------- ------------------------- 6.0/16.1 MB 1.3 MB/s eta 0:00:08\n",
      "   --------------- ------------------------ 6.3/16.1 MB 1.3 MB/s eta 0:00:08\n",
      "   ---------------- ----------------------- 6.8/16.1 MB 1.3 MB/s eta 0:00:08\n",
      "   ------------------ --------------------- 7.3/16.1 MB 1.4 MB/s eta 0:00:07\n",
      "   -------------------- ------------------- 8.1/16.1 MB 1.5 MB/s eta 0:00:06\n",
      "   -------------------- ------------------- 8.1/16.1 MB 1.5 MB/s eta 0:00:06\n",
      "   --------------------- ------------------ 8.7/16.1 MB 1.5 MB/s eta 0:00:06\n",
      "   ----------------------- ---------------- 9.4/16.1 MB 1.5 MB/s eta 0:00:05\n",
      "   ------------------------ --------------- 10.0/16.1 MB 1.6 MB/s eta 0:00:04\n",
      "   --------------------------- ------------ 11.0/16.1 MB 1.7 MB/s eta 0:00:04\n",
      "   ----------------------------- ---------- 11.8/16.1 MB 1.7 MB/s eta 0:00:03\n",
      "   ------------------------------ --------- 12.3/16.1 MB 1.7 MB/s eta 0:00:03\n",
      "   ------------------------------- -------- 12.8/16.1 MB 1.8 MB/s eta 0:00:02\n",
      "   ----------------------------------- ---- 14.2/16.1 MB 1.9 MB/s eta 0:00:02\n",
      "   ------------------------------------- -- 14.9/16.1 MB 1.9 MB/s eta 0:00:01\n",
      "   ---------------------------------------  15.7/16.1 MB 2.0 MB/s eta 0:00:01\n",
      "   ---------------------------------------- 16.1/16.1 MB 2.0 MB/s eta 0:00:00\n",
      "Installing collected packages: mysql-connector-python\n",
      "Successfully installed mysql-connector-python-9.2.0\n"
     ]
    }
   ],
   "source": [
    "!pip install mysql-connector-python pandas openpyxl SQLAlchemy\n"
   ]
  },
  {
   "cell_type": "code",
   "execution_count": 2,
   "id": "02c93df0-76d2-441d-a8ae-c232e721a382",
   "metadata": {},
   "outputs": [
    {
     "name": "stdout",
     "output_type": "stream",
     "text": [
      "Connection successful!\n"
     ]
    }
   ],
   "source": [
    "import mysql.connector\n",
    "\n",
    "conn = mysql.connector.connect(\n",
    "    host='localhost',\n",
    "    user='root',\n",
    "    password='root',\n",
    "    database='hospital_management'\n",
    ")\n",
    "\n",
    "if conn.is_connected():\n",
    "    print(\"Connection successful!\")\n",
    "else:\n",
    "    print(\"Connection failed.\")\n"
   ]
  },
  {
   "cell_type": "code",
   "execution_count": 3,
   "id": "f418394a-a0ad-4d28-8c34-116ff20d8e69",
   "metadata": {},
   "outputs": [
    {
     "name": "stdout",
     "output_type": "stream",
     "text": [
      "All tables exported to 'Hospital_Data.xlsx'\n"
     ]
    }
   ],
   "source": [
    "import pandas as pd\n",
    "from sqlalchemy import create_engine\n",
    "\n",
    "db_user = 'root'\n",
    "db_password = 'root'\n",
    "db_host = 'localhost'\n",
    "db_name = 'hospital_management' \n",
    "\n",
    "engine = create_engine(f\"mysql+mysqlconnector://{db_user}:{db_password}@{db_host}/{db_name}\")\n",
    "\n",
    "tables = [\"Admin\", \"Doctor\", \"Staff\", \"Room\", \"Patient\", \"Cashier\", \"Bill\", \"Appointment\"]\n",
    "\n",
    "with pd.ExcelWriter(\"Hospital_Data.xlsx\", engine='openpyxl') as writer:\n",
    "    for table in tables:\n",
    "        df = pd.read_sql(f\"SELECT * FROM {table}\", engine)\n",
    "        df.to_excel(writer, sheet_name=table, index=False)\n",
    "\n",
    "print(\"All tables exported to 'Hospital_Data.xlsx'\")\n"
   ]
  }
 ],
 "metadata": {
  "kernelspec": {
   "display_name": "Python 3 (ipykernel)",
   "language": "python",
   "name": "python3"
  },
  "language_info": {
   "codemirror_mode": {
    "name": "ipython",
    "version": 3
   },
   "file_extension": ".py",
   "mimetype": "text/x-python",
   "name": "python",
   "nbconvert_exporter": "python",
   "pygments_lexer": "ipython3",
   "version": "3.12.7"
  }
 },
 "nbformat": 4,
 "nbformat_minor": 5
}
