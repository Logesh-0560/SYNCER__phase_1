{
 "cells": [
  {
   "cell_type": "code",
   "execution_count": 0,
   "metadata": {
    "application/vnd.databricks.v1+cell": {
     "cellMetadata": {
      "byteLimit": 2048000,
      "rowLimit": 10000
     },
     "inputWidgets": {},
     "nuid": "6b290877-1216-4e56-b5ff-91be34c16b73",
     "showTitle": false,
     "tableResultSettingsMap": {},
     "title": ""
    }
   },
   "outputs": [],
   "source": [
    "from pyspark.sql import SparkSession\n",
    "\n",
    "spark = SparkSession.builder \\\n",
    "    .appName(\"IPL Union Task\") \\\n",
    "    .getOrCreate()\n"
   ]
  },
  {
   "cell_type": "code",
   "execution_count": 0,
   "metadata": {
    "application/vnd.databricks.v1+cell": {
     "cellMetadata": {
      "byteLimit": 2048000,
      "rowLimit": 10000
     },
     "inputWidgets": {},
     "nuid": "6b6ab16b-77dd-4ab3-8f3b-1a8e46ec6ed9",
     "showTitle": false,
     "tableResultSettingsMap": {},
     "title": ""
    }
   },
   "outputs": [],
   "source": [
    "commentary_df = spark.read.csv(\"dbfs:/FileStore/shared_uploads/girish792004@gmail.com/ipl_commentary_data-1.csv\", header=True, inferSchema=True)\n",
    "over_df = spark.read.csv(\"dbfs:/FileStore/shared_uploads/girish792004@gmail.com/ipl_over_data-3.csv\", header=True, inferSchema=True)\n"
   ]
  },
  {
   "cell_type": "code",
   "execution_count": 0,
   "metadata": {
    "application/vnd.databricks.v1+cell": {
     "cellMetadata": {
      "byteLimit": 2048000,
      "rowLimit": 10000
     },
     "inputWidgets": {},
     "nuid": "dd5c2103-c7e3-4b96-9a28-f95b9fc81acb",
     "showTitle": false,
     "tableResultSettingsMap": {},
     "title": ""
    }
   },
   "outputs": [
    {
     "output_type": "stream",
     "name": "stdout",
     "output_type": "stream",
     "text": [
      "root\n |-- year: string (nullable = true)\n |-- series_type: string (nullable = true)\n |-- series_name: string (nullable = true)\n |-- match_no: string (nullable = true)\n |-- match_type: string (nullable = true)\n |-- match_id: integer (nullable = true)\n |-- match_venue: string (nullable = true)\n |-- match_status: string (nullable = true)\n |-- match_winning_team: string (nullable = true)\n |-- match_tie_breaker: string (nullable = true)\n |-- match_toss: string (nullable = true)\n |-- umpires: string (nullable = true)\n |-- match_referee: string (nullable = true)\n |-- third_umpires: string (nullable = true)\n |-- match_datetime: string (nullable = true)\n |-- team1_name: string (nullable = true)\n |-- team2_name: string (nullable = true)\n |-- team1_score: string (nullable = true)\n |-- team1_wickets: integer (nullable = true)\n |-- team2_score: integer (nullable = true)\n |-- team2_wickets: integer (nullable = true)\n |-- team1_captain: string (nullable = true)\n |-- team1_players: string (nullable = true)\n |-- team1_bench: string (nullable = true)\n |-- team1_support_staff: string (nullable = true)\n |-- team2_captain: string (nullable = true)\n |-- team2_players: string (nullable = true)\n |-- team2_bench: string (nullable = true)\n |-- team2_support_staff: string (nullable = true)\n |-- ball_no: integer (nullable = true)\n |-- over_no: double (nullable = true)\n |-- ball_commentary: string (nullable = true)\n\n"
     ]
    }
   ],
   "source": [
    "commentary_df.printSchema()"
   ]
  },
  {
   "cell_type": "code",
   "execution_count": 0,
   "metadata": {
    "application/vnd.databricks.v1+cell": {
     "cellMetadata": {
      "byteLimit": 2048000,
      "rowLimit": 10000
     },
     "inputWidgets": {},
     "nuid": "1e18f0db-8eff-4b4d-add7-0ad1678f53ae",
     "showTitle": false,
     "tableResultSettingsMap": {},
     "title": ""
    }
   },
   "outputs": [
    {
     "output_type": "stream",
     "name": "stdout",
     "output_type": "stream",
     "text": [
      "root\n |-- year: integer (nullable = true)\n |-- series_type: string (nullable = true)\n |-- series_name: string (nullable = true)\n |-- match_no: string (nullable = true)\n |-- match_type: string (nullable = true)\n |-- match_id: integer (nullable = true)\n |-- match_venue: string (nullable = true)\n |-- match_status: string (nullable = true)\n |-- match_winning_team: string (nullable = true)\n |-- match_tie_breaker: string (nullable = true)\n |-- match_toss: string (nullable = true)\n |-- umpires: string (nullable = true)\n |-- match_referee: string (nullable = true)\n |-- third_umpires: string (nullable = true)\n |-- match_datetime: string (nullable = true)\n |-- team1_name: string (nullable = true)\n |-- team2_name: string (nullable = true)\n |-- team1_score: string (nullable = true)\n |-- team1_wickets: integer (nullable = true)\n |-- team2_score: integer (nullable = true)\n |-- team2_wickets: integer (nullable = true)\n |-- team1_captain: string (nullable = true)\n |-- team1_players: string (nullable = true)\n |-- team1_bench: string (nullable = true)\n |-- team1_support_staff: string (nullable = true)\n |-- team2_captain: string (nullable = true)\n |-- team2_players: string (nullable = true)\n |-- team2_bench: string (nullable = true)\n |-- team2_support_staff: string (nullable = true)\n |-- over_no: integer (nullable = true)\n |-- over_total_runs: integer (nullable = true)\n |-- over_summary: string (nullable = true)\n |-- over_batsman1_name: string (nullable = true)\n |-- over_batsman1_curr_scr: string (nullable = true)\n |-- over_batsman1_played_balls: integer (nullable = true)\n |-- over_batsman2_name: string (nullable = true)\n |-- over_batsman2_curr_scr: string (nullable = true)\n |-- over_batsman2_played_balls: integer (nullable = true)\n |-- over_bowler_name: string (nullable = true)\n |-- over_bowler_bowled_overs: string (nullable = true)\n |-- over_bowler_bowled_maidens: integer (nullable = true)\n |-- over_bowler_bowled_runs: integer (nullable = true)\n |-- over_bowler_bowled_wickets: integer (nullable = true)\n\n"
     ]
    }
   ],
   "source": [
    "over_df.printSchema()"
   ]
  },
  {
   "cell_type": "code",
   "execution_count": 0,
   "metadata": {
    "application/vnd.databricks.v1+cell": {
     "cellMetadata": {
      "byteLimit": 2048000,
      "rowLimit": 10000
     },
     "inputWidgets": {},
     "nuid": "0b89f82d-36bb-47d3-87ed-b05f4132d2c5",
     "showTitle": false,
     "tableResultSettingsMap": {},
     "title": ""
    }
   },
   "outputs": [],
   "source": [
    "from pyspark.sql import functions as F\n",
    "\n",
    "commentary_cols = set(commentary_df.columns)\n",
    "over_cols = set(over_df.columns)\n",
    "\n",
    "missing_in_over = commentary_cols - over_cols\n",
    "missing_in_commentary = over_cols - commentary_cols\n",
    "\n",
    "for col in missing_in_over:\n",
    "    over_df = over_df.withColumn(col, F.lit(None))\n",
    "\n",
    "for col in missing_in_commentary:\n",
    "    commentary_df = commentary_df.withColumn(col, F.lit(None))\n"
   ]
  },
  {
   "cell_type": "code",
   "execution_count": 0,
   "metadata": {
    "application/vnd.databricks.v1+cell": {
     "cellMetadata": {
      "byteLimit": 2048000,
      "rowLimit": 10000
     },
     "inputWidgets": {},
     "nuid": "a957d2e7-fbae-4c81-a9df-4709137513ac",
     "showTitle": false,
     "tableResultSettingsMap": {},
     "title": ""
    }
   },
   "outputs": [
    {
     "output_type": "stream",
     "name": "stdout",
     "output_type": "stream",
     "text": [
      "+--------------------+-------+--------------------+--------+---------+--------------------+------------+-----------------+--------------------+----------+--------------------+--------------------+----------------------+------------------+--------------------------+----------------------+------------------+--------------------------+--------------------------+------------------------+-----------------------+--------------------------+----------------+-------+------------+---------------+--------------------+-----------+--------------------+-------------+----------+-------------+-----------+-------------------+-------------+--------------------+-------------+----------+-------------+-----------+-------------------+-------------+--------------------+--------------------+----+\n|     ball_commentary|ball_no|      match_datetime|match_id| match_no|       match_referee|match_status|match_tie_breaker|          match_toss|match_type|         match_venue|  match_winning_team|over_batsman1_curr_scr|over_batsman1_name|over_batsman1_played_balls|over_batsman2_curr_scr|over_batsman2_name|over_batsman2_played_balls|over_bowler_bowled_maidens|over_bowler_bowled_overs|over_bowler_bowled_runs|over_bowler_bowled_wickets|over_bowler_name|over_no|over_summary|over_total_runs|         series_name|series_type|         team1_bench|team1_captain|team1_name|team1_players|team1_score|team1_support_staff|team1_wickets|         team2_bench|team2_captain|team2_name|team2_players|team2_score|team2_support_staff|team2_wickets|       third_umpires|             umpires|year|\n+--------------------+-------+--------------------+--------+---------+--------------------+------------+-----------------+--------------------+----------+--------------------+--------------------+----------------------+------------------+--------------------------+----------------------+------------------+--------------------------+--------------------------+------------------------+-----------------------+--------------------------+----------------+-------+------------+---------------+--------------------+-----------+--------------------+-------------+----------+-------------+-----------+-------------------+-------------+--------------------+-------------+----------+-------------+-----------+-------------------+-------------+--------------------+--------------------+----+\n|Siraj to Rohit, 2...|      1|2021-04-09 19:30:...|   35612|1st Match|Vengalil Narayana...|   completed|             null|Royal Challengers...|   T20 IPL|{'stadium': 'MA C...|Royal Challengers...|                  null|              null|                      null|                  null|              null|                      null|                      null|                    null|                   null|                      null|            null|    0.1|        null|           null|Indian Premier Le...| T20 League|Nathan Coulter-Ni...|         null|        MI|           []|        159|               null|            9|Adam Zampa, Devdu...|         null|       RCB|           []|        160|               null|            8|Chettithody Shams...|KN Anantha Padman...|2021|\n|Siraj to Rohit, n...|      2|2021-04-09 19:30:...|   35612|1st Match|Vengalil Narayana...|   completed|             null|Royal Challengers...|   T20 IPL|{'stadium': 'MA C...|Royal Challengers...|                  null|              null|                      null|                  null|              null|                      null|                      null|                    null|                   null|                      null|            null|    0.2|        null|           null|Indian Premier Le...| T20 League|Nathan Coulter-Ni...|         null|        MI|           []|        159|               null|            9|Adam Zampa, Devdu...|         null|       RCB|           []|        160|               null|            8|Chettithody Shams...|KN Anantha Padman...|2021|\n|Siraj to Rohit, n...|      3|2021-04-09 19:30:...|   35612|1st Match|Vengalil Narayana...|   completed|             null|Royal Challengers...|   T20 IPL|{'stadium': 'MA C...|Royal Challengers...|                  null|              null|                      null|                  null|              null|                      null|                      null|                    null|                   null|                      null|            null|    0.3|        null|           null|Indian Premier Le...| T20 League|Nathan Coulter-Ni...|         null|        MI|           []|        159|               null|            9|Adam Zampa, Devdu...|         null|       RCB|           []|        160|               null|            8|Chettithody Shams...|KN Anantha Padman...|2021|\n|Siraj to Rohit, 2...|      4|2021-04-09 19:30:...|   35612|1st Match|Vengalil Narayana...|   completed|             null|Royal Challengers...|   T20 IPL|{'stadium': 'MA C...|Royal Challengers...|                  null|              null|                      null|                  null|              null|                      null|                      null|                    null|                   null|                      null|            null|    0.4|        null|           null|Indian Premier Le...| T20 League|Nathan Coulter-Ni...|         null|        MI|           []|        159|               null|            9|Adam Zampa, Devdu...|         null|       RCB|           []|        160|               null|            8|Chettithody Shams...|KN Anantha Padman...|2021|\n|Siraj to Rohit, n...|      5|2021-04-09 19:30:...|   35612|1st Match|Vengalil Narayana...|   completed|             null|Royal Challengers...|   T20 IPL|{'stadium': 'MA C...|Royal Challengers...|                  null|              null|                      null|                  null|              null|                      null|                      null|                    null|                   null|                      null|            null|    0.5|        null|           null|Indian Premier Le...| T20 League|Nathan Coulter-Ni...|         null|        MI|           []|        159|               null|            9|Adam Zampa, Devdu...|         null|       RCB|           []|        160|               null|            8|Chettithody Shams...|KN Anantha Padman...|2021|\n+--------------------+-------+--------------------+--------+---------+--------------------+------------+-----------------+--------------------+----------+--------------------+--------------------+----------------------+------------------+--------------------------+----------------------+------------------+--------------------------+--------------------------+------------------------+-----------------------+--------------------------+----------------+-------+------------+---------------+--------------------+-----------+--------------------+-------------+----------+-------------+-----------+-------------------+-------------+--------------------+-------------+----------+-------------+-----------+-------------------+-------------+--------------------+--------------------+----+\nonly showing top 5 rows\n\n"
     ]
    }
   ],
   "source": [
    "common_column_order = sorted(commentary_df.columns)\n",
    "\n",
    "commentary_df = commentary_df.select(common_column_order)\n",
    "over_df = over_df.select(common_column_order)\n",
    "\n",
    "final_union_df = commentary_df.unionByName(over_df)\n",
    "\n",
    "final_union_df.show(5)\n"
   ]
  },
  {
   "cell_type": "code",
   "execution_count": 0,
   "metadata": {
    "application/vnd.databricks.v1+cell": {
     "cellMetadata": {
      "byteLimit": 2048000,
      "rowLimit": 10000
     },
     "inputWidgets": {},
     "nuid": "9390a9d1-184f-4320-9369-1e6a3dfd1395",
     "showTitle": false,
     "tableResultSettingsMap": {},
     "title": ""
    }
   },
   "outputs": [
    {
     "output_type": "stream",
     "name": "stdout",
     "output_type": "stream",
     "text": [
      "Out[9]: ['ball_commentary',\n 'ball_no',\n 'match_datetime',\n 'match_id',\n 'match_no',\n 'match_referee',\n 'match_status',\n 'match_tie_breaker',\n 'match_toss',\n 'match_type',\n 'match_venue',\n 'match_winning_team',\n 'over_batsman1_curr_scr',\n 'over_batsman1_name',\n 'over_batsman1_played_balls',\n 'over_batsman2_curr_scr',\n 'over_batsman2_name',\n 'over_batsman2_played_balls',\n 'over_bowler_bowled_maidens',\n 'over_bowler_bowled_overs',\n 'over_bowler_bowled_runs',\n 'over_bowler_bowled_wickets',\n 'over_bowler_name',\n 'over_no',\n 'over_summary',\n 'over_total_runs',\n 'series_name',\n 'series_type',\n 'team1_bench',\n 'team1_captain',\n 'team1_name',\n 'team1_players',\n 'team1_score',\n 'team1_support_staff',\n 'team1_wickets',\n 'team2_bench',\n 'team2_captain',\n 'team2_name',\n 'team2_players',\n 'team2_score',\n 'team2_support_staff',\n 'team2_wickets',\n 'third_umpires',\n 'umpires',\n 'year']"
     ]
    }
   ],
   "source": [
    "final_union_df.columns"
   ]
  },
  {
   "cell_type": "code",
   "execution_count": 0,
   "metadata": {
    "application/vnd.databricks.v1+cell": {
     "cellMetadata": {
      "byteLimit": 2048000,
      "rowLimit": 10000
     },
     "inputWidgets": {},
     "nuid": "fc905e65-ad47-4af2-86e2-63d157121c50",
     "showTitle": false,
     "tableResultSettingsMap": {},
     "title": ""
    }
   },
   "outputs": [
    {
     "output_type": "stream",
     "name": "stdout",
     "output_type": "stream",
     "text": [
      "+--------------------+------------+\n|     ball_commentary|over_summary|\n+--------------------+------------+\n|Siraj to Rohit, 2...|        null|\n|Siraj to Rohit, n...|        null|\n|Siraj to Rohit, n...|        null|\n|Siraj to Rohit, 2...|        null|\n|Siraj to Rohit, n...|        null|\n|Siraj to Rohit, 1...|        null|\n|Jamieson to Rohit...|        null|\n|Jamieson to Chris...|        null|\n|Jamieson to Chris...|        null|\n|Jamieson to Chris...|        null|\n+--------------------+------------+\nonly showing top 10 rows\n\n"
     ]
    }
   ],
   "source": [
    "final_union_df.select(\"ball_commentary\", \"over_summary\").show(10)\n"
   ]
  },
  {
   "cell_type": "code",
   "execution_count": 0,
   "metadata": {
    "application/vnd.databricks.v1+cell": {
     "cellMetadata": {},
     "inputWidgets": {},
     "nuid": "98743610-84ba-4b18-9984-8c1be71ce8b9",
     "showTitle": false,
     "tableResultSettingsMap": {},
     "title": ""
    }
   },
   "outputs": [],
   "source": []
  }
 ],
 "metadata": {
  "application/vnd.databricks.v1+notebook": {
   "computePreferences": null,
   "dashboards": [],
   "environmentMetadata": {
    "base_environment": "",
    "environment_version": "1"
   },
   "inputWidgetPreferences": null,
   "language": "python",
   "notebookMetadata": {
    "pythonIndentUnit": 4
   },
   "notebookName": "DA_L17_02",
   "widgets": {}
  }
 },
 "nbformat": 4,
 "nbformat_minor": 0
}