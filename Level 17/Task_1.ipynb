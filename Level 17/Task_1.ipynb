{
 "cells": [
  {
   "cell_type": "code",
   "execution_count": 0,
   "metadata": {
    "application/vnd.databricks.v1+cell": {
     "cellMetadata": {
      "byteLimit": 2048000,
      "rowLimit": 10000
     },
     "inputWidgets": {},
     "nuid": "7f3cb552-ba77-4cee-837a-6e0c51095c51",
     "showTitle": false,
     "tableResultSettingsMap": {},
     "title": ""
    }
   },
   "outputs": [],
   "source": [
    "df=spark.read.option(\"header\",True).csv(\"dbfs:/FileStore/shared_uploads/logeshbtech0560@gmail.com/ipl_over_data.csv\")"
   ]
  },
  {
   "cell_type": "code",
   "execution_count": 0,
   "metadata": {
    "application/vnd.databricks.v1+cell": {
     "cellMetadata": {
      "byteLimit": 2048000,
      "rowLimit": 10000
     },
     "inputWidgets": {},
     "nuid": "c9400e4c-6eb2-4c2e-af05-74e1a43f1fa4",
     "showTitle": false,
     "tableResultSettingsMap": {},
     "title": ""
    }
   },
   "outputs": [
    {
     "output_type": "stream",
     "name": "stdout",
     "output_type": "stream",
     "text": [
      "Out[2]: ['year',\n 'series_type',\n 'series_name',\n 'match_no',\n 'match_type',\n 'match_id',\n 'match_venue',\n 'match_status',\n 'match_winning_team',\n 'match_tie_breaker',\n 'match_toss',\n 'umpires',\n 'match_referee',\n 'third_umpires',\n 'match_datetime',\n 'team1_name',\n 'team2_name',\n 'team1_score',\n 'team1_wickets',\n 'team2_score',\n 'team2_wickets',\n 'team1_captain',\n 'team1_players',\n 'team1_bench',\n 'team1_support_staff',\n 'team2_captain',\n 'team2_players',\n 'team2_bench',\n 'team2_support_staff',\n 'over_no',\n 'over_total_runs',\n 'over_summary',\n 'over_batsman1_name',\n 'over_batsman1_curr_scr',\n 'over_batsman1_played_balls',\n 'over_batsman2_name',\n 'over_batsman2_curr_scr',\n 'over_batsman2_played_balls',\n 'over_bowler_name',\n 'over_bowler_bowled_overs',\n 'over_bowler_bowled_maidens',\n 'over_bowler_bowled_runs',\n 'over_bowler_bowled_wickets']"
     ]
    }
   ],
   "source": [
    "df.columns"
   ]
  },
  {
   "cell_type": "code",
   "execution_count": 0,
   "metadata": {
    "application/vnd.databricks.v1+cell": {
     "cellMetadata": {
      "byteLimit": 2048000,
      "rowLimit": 10000
     },
     "inputWidgets": {},
     "nuid": "0d4096df-ad04-4bc0-b3bb-d6d799ed8aa5",
     "showTitle": false,
     "tableResultSettingsMap": {},
     "title": ""
    }
   },
   "outputs": [
    {
     "output_type": "stream",
     "name": "stdout",
     "output_type": "stream",
     "text": [
      "+----+-----------+--------------------------+---------+----------+--------+------------------------------------------------------------------------------------------------------------------------------+------------+---------------------------+-----------------+---------------------------------------------------------------------+-----------------------------------+------------------------+-----------------------+-------------------------+----------+----------+-----------+-------------+-----------+-------------+-------------+-------------+----------------------------------------------------------------------------------------------------------------------------------------------------------------------------------------------------------------------------+-------------------+-------------+-------------+----------------------------------------------------------------------------------------------------------------------------------------------------------------+-------------------+-------+---------------+------------+------------------+----------------------+--------------------------+------------------+----------------------+--------------------------+----------------+------------------------+--------------------------+-----------------------+--------------------------+\n|year|series_type|series_name               |match_no |match_type|match_id|match_venue                                                                                                                   |match_status|match_winning_team         |match_tie_breaker|match_toss                                                           |umpires                            |match_referee           |third_umpires          |match_datetime           |team1_name|team2_name|team1_score|team1_wickets|team2_score|team2_wickets|team1_captain|team1_players|team1_bench                                                                                                                                                                                                                 |team1_support_staff|team2_captain|team2_players|team2_bench                                                                                                                                                     |team2_support_staff|over_no|over_total_runs|over_summary|over_batsman1_name|over_batsman1_curr_scr|over_batsman1_played_balls|over_batsman2_name|over_batsman2_curr_scr|over_batsman2_played_balls|over_bowler_name|over_bowler_bowled_overs|over_bowler_bowled_maidens|over_bowler_bowled_runs|over_bowler_bowled_wickets|\n+----+-----------+--------------------------+---------+----------+--------+------------------------------------------------------------------------------------------------------------------------------+------------+---------------------------+-----------------+---------------------------------------------------------------------+-----------------------------------+------------------------+-----------------------+-------------------------+----------+----------+-----------+-------------+-----------+-------------+-------------+-------------+----------------------------------------------------------------------------------------------------------------------------------------------------------------------------------------------------------------------------+-------------------+-------------+-------------+----------------------------------------------------------------------------------------------------------------------------------------------------------------+-------------------+-------+---------------+------------+------------------+----------------------+--------------------------+------------------+----------------------+--------------------------+----------------+------------------------+--------------------------+-----------------------+--------------------------+\n|2021|T20 League |Indian Premier League 2021|1st Match|T20 IPL   |35612   |{'stadium': 'MA Chidambaram Stadium', 'city': 'Chennai', 'capacity': '50000', 'host_teams': 'Tamil Nadu, Chennai Super Kings'}|completed   |Royal Challengers Bangalore|null             |Royal Challengers Bangalore have won the toss and have opted to field|KN Anantha Padmanabhan, Nitin Menon|Vengalil Narayanan Kutty|Chettithody Shamshuddin|2021-04-09 19:30:00+05:30|MI        |RCB       |159        |9            |160        |8            |null         |[]           |Nathan Coulter-Nile, Piyush Chawla, Dhawal Kulkarni, Saurabh Tiwary, Aditya Tare, Adam Milne, Jayant Yadav, Anmolpreet Singh, Quinton de Kock, Anukul Roy, Mohsin Khan, Arjun Tendulkar, Yudhvir Singh Charak, James Neesham|null               |null         |[]           |Adam Zampa, Devdutt Padikkal, Sachin Baby, Navdeep Saini, Kane Richardson, Srikar Bharat, Pavan Deshpande, Finn Allen, Suyash Prabhudessai, Mohammed Azharuddeen|null               |1      |5              |2 0 0 2 0 1 |Rohit Sharma      |5                     |6                         |Chris Lynn        |0                     |0                         |Mohammed Siraj  |1                       |0                         |5                      |0                         |\n|2021|T20 League |Indian Premier League 2021|1st Match|T20 IPL   |35612   |{'stadium': 'MA Chidambaram Stadium', 'city': 'Chennai', 'capacity': '50000', 'host_teams': 'Tamil Nadu, Chennai Super Kings'}|completed   |Royal Challengers Bangalore|null             |Royal Challengers Bangalore have won the toss and have opted to field|KN Anantha Padmanabhan, Nitin Menon|Vengalil Narayanan Kutty|Chettithody Shamshuddin|2021-04-09 19:30:00+05:30|MI        |RCB       |159        |9            |160        |8            |null         |[]           |Nathan Coulter-Nile, Piyush Chawla, Dhawal Kulkarni, Saurabh Tiwary, Aditya Tare, Adam Milne, Jayant Yadav, Anmolpreet Singh, Quinton de Kock, Anukul Roy, Mohsin Khan, Arjun Tendulkar, Yudhvir Singh Charak, James Neesham|null               |null         |[]           |Adam Zampa, Devdutt Padikkal, Sachin Baby, Navdeep Saini, Kane Richardson, Srikar Bharat, Pavan Deshpande, Finn Allen, Suyash Prabhudessai, Mohammed Azharuddeen|null               |2      |1              |1 0 0 0 0 0 |Chris Lynn        |0                     |5                         |Rohit Sharma      |6                     |7                         |Kyle Jamieson   |1                       |0                         |1                      |0                         |\n|2021|T20 League |Indian Premier League 2021|1st Match|T20 IPL   |35612   |{'stadium': 'MA Chidambaram Stadium', 'city': 'Chennai', 'capacity': '50000', 'host_teams': 'Tamil Nadu, Chennai Super Kings'}|completed   |Royal Challengers Bangalore|null             |Royal Challengers Bangalore have won the toss and have opted to field|KN Anantha Padmanabhan, Nitin Menon|Vengalil Narayanan Kutty|Chettithody Shamshuddin|2021-04-09 19:30:00+05:30|MI        |RCB       |159        |9            |160        |8            |null         |[]           |Nathan Coulter-Nile, Piyush Chawla, Dhawal Kulkarni, Saurabh Tiwary, Aditya Tare, Adam Milne, Jayant Yadav, Anmolpreet Singh, Quinton de Kock, Anukul Roy, Mohsin Khan, Arjun Tendulkar, Yudhvir Singh Charak, James Neesham|null               |null         |[]           |Adam Zampa, Devdutt Padikkal, Sachin Baby, Navdeep Saini, Kane Richardson, Srikar Bharat, Pavan Deshpande, Finn Allen, Suyash Prabhudessai, Mohammed Azharuddeen|null               |3      |6              |0 0 0 0 4 2 |Rohit Sharma      |12                    |13                        |Chris Lynn        |0                     |5                         |Mohammed Siraj  |2                       |0                         |11                     |0                         |\n|2021|T20 League |Indian Premier League 2021|1st Match|T20 IPL   |35612   |{'stadium': 'MA Chidambaram Stadium', 'city': 'Chennai', 'capacity': '50000', 'host_teams': 'Tamil Nadu, Chennai Super Kings'}|completed   |Royal Challengers Bangalore|null             |Royal Challengers Bangalore have won the toss and have opted to field|KN Anantha Padmanabhan, Nitin Menon|Vengalil Narayanan Kutty|Chettithody Shamshuddin|2021-04-09 19:30:00+05:30|MI        |RCB       |159        |9            |160        |8            |null         |[]           |Nathan Coulter-Nile, Piyush Chawla, Dhawal Kulkarni, Saurabh Tiwary, Aditya Tare, Adam Milne, Jayant Yadav, Anmolpreet Singh, Quinton de Kock, Anukul Roy, Mohsin Khan, Arjun Tendulkar, Yudhvir Singh Charak, James Neesham|null               |null         |[]           |Adam Zampa, Devdutt Padikkal, Sachin Baby, Navdeep Saini, Kane Richardson, Srikar Bharat, Pavan Deshpande, Finn Allen, Suyash Prabhudessai, Mohammed Azharuddeen|null               |4      |12             |0 4 1 6 1 W |Chris Lynn        |5                     |9                         |Rohit Sharma      |19                    |15                        |Yuzvendra Chahal|1                       |0                         |12                     |0                         |\n|2021|T20 League |Indian Premier League 2021|1st Match|T20 IPL   |35612   |{'stadium': 'MA Chidambaram Stadium', 'city': 'Chennai', 'capacity': '50000', 'host_teams': 'Tamil Nadu, Chennai Super Kings'}|completed   |Royal Challengers Bangalore|null             |Royal Challengers Bangalore have won the toss and have opted to field|KN Anantha Padmanabhan, Nitin Menon|Vengalil Narayanan Kutty|Chettithody Shamshuddin|2021-04-09 19:30:00+05:30|MI        |RCB       |159        |9            |160        |8            |null         |[]           |Nathan Coulter-Nile, Piyush Chawla, Dhawal Kulkarni, Saurabh Tiwary, Aditya Tare, Adam Milne, Jayant Yadav, Anmolpreet Singh, Quinton de Kock, Anukul Roy, Mohsin Khan, Arjun Tendulkar, Yudhvir Singh Charak, James Neesham|null               |null         |[]           |Adam Zampa, Devdutt Padikkal, Sachin Baby, Navdeep Saini, Kane Richardson, Srikar Bharat, Pavan Deshpande, Finn Allen, Suyash Prabhudessai, Mohammed Azharuddeen|null               |5      |6              |4 0 1 1 0 0 |Suryakumar Yadav  |5                     |5                         |Chris Lynn        |6                     |10                        |Kyle Jamieson   |2                       |0                         |7                      |0                         |\n+----+-----------+--------------------------+---------+----------+--------+------------------------------------------------------------------------------------------------------------------------------+------------+---------------------------+-----------------+---------------------------------------------------------------------+-----------------------------------+------------------------+-----------------------+-------------------------+----------+----------+-----------+-------------+-----------+-------------+-------------+-------------+----------------------------------------------------------------------------------------------------------------------------------------------------------------------------------------------------------------------------+-------------------+-------------+-------------+----------------------------------------------------------------------------------------------------------------------------------------------------------------+-------------------+-------+---------------+------------+------------------+----------------------+--------------------------+------------------+----------------------+--------------------------+----------------+------------------------+--------------------------+-----------------------+--------------------------+\nonly showing top 5 rows\n\n"
     ]
    }
   ],
   "source": [
    "df.show(5,truncate=False)"
   ]
  },
  {
   "cell_type": "code",
   "execution_count": 0,
   "metadata": {
    "application/vnd.databricks.v1+cell": {
     "cellMetadata": {
      "byteLimit": 2048000,
      "rowLimit": 10000
     },
     "inputWidgets": {},
     "nuid": "e48ba4fe-1314-4be9-b027-2c6891006841",
     "showTitle": false,
     "tableResultSettingsMap": {},
     "title": ""
    }
   },
   "outputs": [
    {
     "output_type": "stream",
     "name": "stdout",
     "output_type": "stream",
     "text": [
      "+--------------------+\n|      match_datetime|\n+--------------------+\n|2021-04-09 19:30:...|\n|2021-04-09 19:30:...|\n|2021-04-09 19:30:...|\n|2021-04-09 19:30:...|\n|2021-04-09 19:30:...|\n+--------------------+\nonly showing top 5 rows\n\n"
     ]
    }
   ],
   "source": [
    "df.select(\"match_datetime\").show(5)"
   ]
  },
  {
   "cell_type": "code",
   "execution_count": 0,
   "metadata": {
    "application/vnd.databricks.v1+cell": {
     "cellMetadata": {
      "byteLimit": 2048000,
      "rowLimit": 10000
     },
     "inputWidgets": {},
     "nuid": "d9b55b59-816d-4070-a401-3f3ed3a450f9",
     "showTitle": false,
     "tableResultSettingsMap": {},
     "title": ""
    }
   },
   "outputs": [],
   "source": [
    "spark.conf.set(\"spark.sql.session.timeZone\", \"Asia/Kolkata\")"
   ]
  },
  {
   "cell_type": "code",
   "execution_count": 0,
   "metadata": {
    "application/vnd.databricks.v1+cell": {
     "cellMetadata": {
      "byteLimit": 2048000,
      "rowLimit": 10000
     },
     "inputWidgets": {},
     "nuid": "8f7e9fa2-78fd-4fc1-aae6-374c06550145",
     "showTitle": false,
     "tableResultSettingsMap": {},
     "title": ""
    }
   },
   "outputs": [
    {
     "output_type": "stream",
     "name": "stdout",
     "output_type": "stream",
     "text": [
      "+-------------------+----------+----------+\n|match_datetime     |match_date|match_time|\n+-------------------+----------+----------+\n|2021-04-09 19:30:00|2021-04-09|19:30:00  |\n|2021-04-09 19:30:00|2021-04-09|19:30:00  |\n|2021-04-09 19:30:00|2021-04-09|19:30:00  |\n|2021-04-09 19:30:00|2021-04-09|19:30:00  |\n|2021-04-09 19:30:00|2021-04-09|19:30:00  |\n|2021-04-09 19:30:00|2021-04-09|19:30:00  |\n|2021-04-09 19:30:00|2021-04-09|19:30:00  |\n|2021-04-09 19:30:00|2021-04-09|19:30:00  |\n|2021-04-09 19:30:00|2021-04-09|19:30:00  |\n|2021-04-09 19:30:00|2021-04-09|19:30:00  |\n|2021-04-09 19:30:00|2021-04-09|19:30:00  |\n|2021-04-09 19:30:00|2021-04-09|19:30:00  |\n|2021-04-09 19:30:00|2021-04-09|19:30:00  |\n|2021-04-09 19:30:00|2021-04-09|19:30:00  |\n|2021-04-09 19:30:00|2021-04-09|19:30:00  |\n|2021-04-09 19:30:00|2021-04-09|19:30:00  |\n|2021-04-09 19:30:00|2021-04-09|19:30:00  |\n|2021-04-09 19:30:00|2021-04-09|19:30:00  |\n|2021-04-09 19:30:00|2021-04-09|19:30:00  |\n|2021-04-09 19:30:00|2021-04-09|19:30:00  |\n+-------------------+----------+----------+\nonly showing top 20 rows\n\n"
     ]
    }
   ],
   "source": [
    "from pyspark.sql.functions import col, to_timestamp, to_date, date_format\n",
    "\n",
    "df = df.withColumn(\"match_datetime\", to_timestamp(col(\"match_datetime\"))) \\\n",
    "       .withColumn(\"match_date\", to_date(col(\"match_datetime\"))) \\\n",
    "       .withColumn(\"match_time\", date_format(col(\"match_datetime\"), \"HH:mm:ss\"))\n",
    "\n",
    "df.select(\"match_datetime\", \"match_date\", \"match_time\").show(truncate=False)"
   ]
  },
  {
   "cell_type": "code",
   "execution_count": 0,
   "metadata": {
    "application/vnd.databricks.v1+cell": {
     "cellMetadata": {
      "byteLimit": 2048000,
      "rowLimit": 10000
     },
     "inputWidgets": {},
     "nuid": "1b145a9d-89fa-4588-9058-3586728a00b4",
     "showTitle": false,
     "tableResultSettingsMap": {},
     "title": ""
    }
   },
   "outputs": [
    {
     "output_type": "stream",
     "name": "stdout",
     "output_type": "stream",
     "text": [
      "+----------+----------+\n|match_date|match_time|\n+----------+----------+\n|2021-04-09|19:30:00  |\n|2021-04-09|19:30:00  |\n|2021-04-09|19:30:00  |\n|2021-04-09|19:30:00  |\n|2021-04-09|19:30:00  |\n+----------+----------+\nonly showing top 5 rows\n\n"
     ]
    }
   ],
   "source": [
    "df.select(\"match_date\",\"match_time\").show(5,truncate=False)"
   ]
  },
  {
   "cell_type": "code",
   "execution_count": 0,
   "metadata": {
    "application/vnd.databricks.v1+cell": {
     "cellMetadata": {},
     "inputWidgets": {},
     "nuid": "999a1378-8d73-4f96-b2c8-addaadc7bbf4",
     "showTitle": false,
     "tableResultSettingsMap": {},
     "title": ""
    }
   },
   "outputs": [],
   "source": []
  }
 ],
 "metadata": {
  "application/vnd.databricks.v1+notebook": {
   "computePreferences": null,
   "dashboards": [],
   "environmentMetadata": {
    "base_environment": "",
    "environment_version": "1"
   },
   "inputWidgetPreferences": null,
   "language": "python",
   "notebookMetadata": {
    "pythonIndentUnit": 4
   },
   "notebookName": "Untitled Notebook 2025-04-23 10:37:18",
   "widgets": {}
  }
 },
 "nbformat": 4,
 "nbformat_minor": 0
}