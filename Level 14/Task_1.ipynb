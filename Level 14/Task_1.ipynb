{
 "cells": [
  {
   "cell_type": "code",
   "execution_count": 1,
   "id": "932e5fa6-3326-4f48-8016-9930629747bd",
   "metadata": {},
   "outputs": [
    {
     "name": "stdout",
     "output_type": "stream",
     "text": [
      "Defaulting to user installation because normal site-packages is not writeable\n",
      "Requirement already satisfied: selenium in c:\\users\\loges\\appdata\\roaming\\python\\python312\\site-packages (4.31.0)\n",
      "Requirement already satisfied: urllib3<3,>=1.26 in c:\\users\\loges\\appdata\\roaming\\python\\python312\\site-packages (from urllib3[socks]<3,>=1.26->selenium) (1.26.20)\n",
      "Requirement already satisfied: trio~=0.17 in c:\\users\\loges\\appdata\\roaming\\python\\python312\\site-packages (from selenium) (0.29.0)\n",
      "Requirement already satisfied: trio-websocket~=0.9 in c:\\users\\loges\\appdata\\roaming\\python\\python312\\site-packages (from selenium) (0.12.1)\n",
      "Requirement already satisfied: certifi>=2021.10.8 in c:\\programdata\\anaconda3\\lib\\site-packages (from selenium) (2024.8.30)\n",
      "Requirement already satisfied: typing_extensions~=4.9 in c:\\programdata\\anaconda3\\lib\\site-packages (from selenium) (4.11.0)\n",
      "Requirement already satisfied: websocket-client~=1.8 in c:\\programdata\\anaconda3\\lib\\site-packages (from selenium) (1.8.0)\n",
      "Requirement already satisfied: attrs>=23.2.0 in c:\\users\\loges\\appdata\\roaming\\python\\python312\\site-packages (from trio~=0.17->selenium) (25.1.0)\n",
      "Requirement already satisfied: sortedcontainers in c:\\programdata\\anaconda3\\lib\\site-packages (from trio~=0.17->selenium) (2.4.0)\n",
      "Requirement already satisfied: idna in c:\\programdata\\anaconda3\\lib\\site-packages (from trio~=0.17->selenium) (3.7)\n",
      "Requirement already satisfied: outcome in c:\\users\\loges\\appdata\\roaming\\python\\python312\\site-packages (from trio~=0.17->selenium) (1.3.0.post0)\n",
      "Requirement already satisfied: sniffio>=1.3.0 in c:\\programdata\\anaconda3\\lib\\site-packages (from trio~=0.17->selenium) (1.3.0)\n",
      "Requirement already satisfied: cffi>=1.14 in c:\\programdata\\anaconda3\\lib\\site-packages (from trio~=0.17->selenium) (1.17.1)\n",
      "Requirement already satisfied: wsproto>=0.14 in c:\\users\\loges\\appdata\\roaming\\python\\python312\\site-packages (from trio-websocket~=0.9->selenium) (1.2.0)\n",
      "Requirement already satisfied: PySocks!=1.5.7,<2.0,>=1.5.6 in c:\\programdata\\anaconda3\\lib\\site-packages (from urllib3[socks]<3,>=1.26->selenium) (1.7.1)\n",
      "Requirement already satisfied: pycparser in c:\\programdata\\anaconda3\\lib\\site-packages (from cffi>=1.14->trio~=0.17->selenium) (2.21)\n",
      "Requirement already satisfied: h11<1,>=0.9.0 in c:\\programdata\\anaconda3\\lib\\site-packages (from wsproto>=0.14->trio-websocket~=0.9->selenium) (0.14.0)\n",
      "Note: you may need to restart the kernel to use updated packages.\n"
     ]
    }
   ],
   "source": [
    "pip install selenium"
   ]
  },
  {
   "cell_type": "code",
   "execution_count": 10,
   "id": "6b613679-bea3-493d-8a75-082b0f479d91",
   "metadata": {},
   "outputs": [
    {
     "name": "stdout",
     "output_type": "stream",
     "text": [
      "   year    series_type                                   series_name  \\\n",
      "0  None  International       Malaysia Quadrangular T20I Series, 2025   \n",
      "1  None  International             Zimbabwe tour of Bangladesh, 2025   \n",
      "2  None  International              The North American T20 Cup, 2025   \n",
      "3  None  International  Central American Cricket Championships, 2025   \n",
      "4  None  International      Hong Kong T20I Quadrangular Series, 2025   \n",
      "\n",
      "                                         series_href  \n",
      "0  https://www.cricbuzz.com/cricket-series/9710/m...  \n",
      "1  https://www.cricbuzz.com/cricket-series/9514/z...  \n",
      "2  https://www.cricbuzz.com/cricket-series/9677/t...  \n",
      "3  https://www.cricbuzz.com/cricket-series/9692/c...  \n",
      "4  https://www.cricbuzz.com/cricket-series/9647/h...  \n"
     ]
    }
   ],
   "source": [
    "from selenium import webdriver\n",
    "from selenium.webdriver.chrome.service import Service\n",
    "from bs4 import BeautifulSoup\n",
    "import pandas as pd\n",
    "import time\n",
    "\n",
    "chrome_path = r\"C:\\chromedriver.exe\"\n",
    "\n",
    "\n",
    "options = webdriver.ChromeOptions()\n",
    "options.add_argument('--headless')\n",
    "driver = webdriver.Chrome(service=Service(chrome_path), options=options)\n",
    "\n",
    "\n",
    "url = \"https://www.cricbuzz.com/cricket-scorecard-archives\"\n",
    "driver.get(url)\n",
    "time.sleep(3)\n",
    "\n",
    "soup = BeautifulSoup(driver.page_source, \"html.parser\")\n",
    "driver.quit()\n",
    "\n",
    "series_data = []\n",
    "\n",
    "years = soup.select(\".cb-schdl-hdr, .cb-arcv-yr\")\n",
    "series_blocks = soup.select(\".cb-srs-cat, .cb-srs-lst-itm\")\n",
    "\n",
    "current_year = None\n",
    "current_type = None\n",
    "\n",
    "for block in series_blocks:\n",
    "    if \"cb-arcv-yr\" in block.get(\"class\", []):\n",
    "        current_year = block.text.strip()\n",
    "    elif \"cb-srs-cat\" in block.get(\"class\", []):\n",
    "        current_type = block.text.strip()\n",
    "    elif \"cb-srs-lst-itm\" in block.get(\"class\", []):\n",
    "        anchor = block.find(\"a\")\n",
    "        if anchor:\n",
    "            series_name = anchor.text.strip()\n",
    "            series_href = \"https://www.cricbuzz.com\" + anchor.get(\"href\", \"\")\n",
    "            series_data.append({\n",
    "                \"year\": current_year,\n",
    "                \"series_type\": current_type,\n",
    "                \"series_name\": series_name,\n",
    "                \"series_href\": series_href\n",
    "            })\n",
    "\n",
    "df = pd.DataFrame(series_data)\n",
    "print(df.head())\n",
    "df.to_csv(\"cricbuzz_series_data.csv\", index=False)"
   ]
  },
  {
   "cell_type": "code",
   "execution_count": 11,
   "id": "c6c58f3c-033d-4af1-beb9-722d9832bc34",
   "metadata": {},
   "outputs": [
    {
     "data": {
      "text/plain": [
       "Index(['year', 'series_type', 'series_name', 'series_href'], dtype='object')"
      ]
     },
     "execution_count": 11,
     "metadata": {},
     "output_type": "execute_result"
    }
   ],
   "source": [
    "df = pd.read_csv('cricbuzz_series_data.csv')\n",
    "df.columns\n",
    "\n"
   ]
  },
  {
   "cell_type": "code",
   "execution_count": 12,
   "id": "3e0fe889-00c8-4f6e-9ddc-33bad604f04d",
   "metadata": {},
   "outputs": [],
   "source": [
    "\n",
    "df['series_name'] = df['series_name'].astype(str)\n",
    "df['year'] = df['series_name'].str.extract(r',\\s*(\\d{4})')\n",
    "df['series_name'] = df['series_name'].str.replace(r',\\s*\\d{4}', '', regex=True)\n",
    "\n",
    "df.to_csv('cricbuzz_series_data.csv', index=False)\n"
   ]
  },
  {
   "cell_type": "code",
   "execution_count": null,
   "id": "d790cef1-6716-45cd-bc0a-eb1145a020e9",
   "metadata": {},
   "outputs": [],
   "source": []
  }
 ],
 "metadata": {
  "kernelspec": {
   "display_name": "Python 3 (ipykernel)",
   "language": "python",
   "name": "python3"
  },
  "language_info": {
   "codemirror_mode": {
    "name": "ipython",
    "version": 3
   },
   "file_extension": ".py",
   "mimetype": "text/x-python",
   "name": "python",
   "nbconvert_exporter": "python",
   "pygments_lexer": "ipython3",
   "version": "3.12.7"
  }
 },
 "nbformat": 4,
 "nbformat_minor": 5
}
