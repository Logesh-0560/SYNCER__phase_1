{
 "cells": [
  {
   "cell_type": "code",
   "execution_count": 2,
   "id": "3dd7cc82-e507-4e10-aaec-3beea0fb5eed",
   "metadata": {},
   "outputs": [
    {
     "name": "stdout",
     "output_type": "stream",
     "text": [
      "Defaulting to user installation because normal site-packages is not writeable\n",
      "Requirement already satisfied: selenium in c:\\users\\loges\\appdata\\roaming\\python\\python312\\site-packages (4.31.0)\n",
      "Requirement already satisfied: pandas in c:\\programdata\\anaconda3\\lib\\site-packages (2.2.2)\n",
      "Requirement already satisfied: urllib3<3,>=1.26 in c:\\users\\loges\\appdata\\roaming\\python\\python312\\site-packages (from urllib3[socks]<3,>=1.26->selenium) (1.26.20)\n",
      "Requirement already satisfied: trio~=0.17 in c:\\users\\loges\\appdata\\roaming\\python\\python312\\site-packages (from selenium) (0.29.0)\n",
      "Requirement already satisfied: trio-websocket~=0.9 in c:\\users\\loges\\appdata\\roaming\\python\\python312\\site-packages (from selenium) (0.12.1)\n",
      "Requirement already satisfied: certifi>=2021.10.8 in c:\\programdata\\anaconda3\\lib\\site-packages (from selenium) (2024.8.30)\n",
      "Requirement already satisfied: typing_extensions~=4.9 in c:\\programdata\\anaconda3\\lib\\site-packages (from selenium) (4.11.0)\n",
      "Requirement already satisfied: websocket-client~=1.8 in c:\\programdata\\anaconda3\\lib\\site-packages (from selenium) (1.8.0)\n",
      "Requirement already satisfied: numpy>=1.26.0 in c:\\programdata\\anaconda3\\lib\\site-packages (from pandas) (1.26.4)\n",
      "Requirement already satisfied: python-dateutil>=2.8.2 in c:\\users\\loges\\appdata\\roaming\\python\\python312\\site-packages (from pandas) (2.9.0.post0)\n",
      "Requirement already satisfied: pytz>=2020.1 in c:\\programdata\\anaconda3\\lib\\site-packages (from pandas) (2024.1)\n",
      "Requirement already satisfied: tzdata>=2022.7 in c:\\programdata\\anaconda3\\lib\\site-packages (from pandas) (2023.3)\n",
      "Requirement already satisfied: six>=1.5 in c:\\users\\loges\\appdata\\roaming\\python\\python312\\site-packages (from python-dateutil>=2.8.2->pandas) (1.17.0)\n",
      "Requirement already satisfied: attrs>=23.2.0 in c:\\users\\loges\\appdata\\roaming\\python\\python312\\site-packages (from trio~=0.17->selenium) (25.1.0)\n",
      "Requirement already satisfied: sortedcontainers in c:\\programdata\\anaconda3\\lib\\site-packages (from trio~=0.17->selenium) (2.4.0)\n",
      "Requirement already satisfied: idna in c:\\programdata\\anaconda3\\lib\\site-packages (from trio~=0.17->selenium) (3.7)\n",
      "Requirement already satisfied: outcome in c:\\users\\loges\\appdata\\roaming\\python\\python312\\site-packages (from trio~=0.17->selenium) (1.3.0.post0)\n",
      "Requirement already satisfied: sniffio>=1.3.0 in c:\\programdata\\anaconda3\\lib\\site-packages (from trio~=0.17->selenium) (1.3.0)\n",
      "Requirement already satisfied: cffi>=1.14 in c:\\programdata\\anaconda3\\lib\\site-packages (from trio~=0.17->selenium) (1.17.1)\n",
      "Requirement already satisfied: wsproto>=0.14 in c:\\users\\loges\\appdata\\roaming\\python\\python312\\site-packages (from trio-websocket~=0.9->selenium) (1.2.0)\n",
      "Requirement already satisfied: PySocks!=1.5.7,<2.0,>=1.5.6 in c:\\programdata\\anaconda3\\lib\\site-packages (from urllib3[socks]<3,>=1.26->selenium) (1.7.1)\n",
      "Requirement already satisfied: pycparser in c:\\programdata\\anaconda3\\lib\\site-packages (from cffi>=1.14->trio~=0.17->selenium) (2.21)\n",
      "Requirement already satisfied: h11<1,>=0.9.0 in c:\\programdata\\anaconda3\\lib\\site-packages (from wsproto>=0.14->trio-websocket~=0.9->selenium) (0.14.0)\n",
      "Note: you may need to restart the kernel to use updated packages.\n"
     ]
    }
   ],
   "source": [
    "pip install selenium pandas\n"
   ]
  },
  {
   "cell_type": "code",
   "execution_count": 1,
   "id": "5a25d0d4-96cc-4b2d-9121-f153a13a340d",
   "metadata": {},
   "outputs": [
    {
     "name": "stdout",
     "output_type": "stream",
     "text": [
      "Match details saved to match_details.csv\n"
     ]
    }
   ],
   "source": [
    "import csv\n",
    "from selenium import webdriver\n",
    "from selenium.webdriver.common.by import By\n",
    "from selenium.webdriver.support.ui import WebDriverWait\n",
    "from selenium.webdriver.support import expected_conditions as EC\n",
    "\n",
    "driver = webdriver.Chrome()\n",
    "url = \"https://www.cricbuzz.com/cricket-full-commentary/35612/mi-vs-rcb-1st-match-indian-premier-league-2021\"\n",
    "driver.get(url)\n",
    "\n",
    "main_section = WebDriverWait(driver, 10).until(\n",
    "    EC.presence_of_element_located((By.CLASS_NAME, \"cb-nav-main\"))\n",
    ")\n",
    "\n",
    "title = main_section.find_element(By.CSS_SELECTOR, \"h1[itemprop='name']\").text.strip()\n",
    "\n",
    "subhdr = main_section.find_element(By.CLASS_NAME, \"cb-nav-subhdr\")\n",
    "links = subhdr.find_elements(By.TAG_NAME, \"a\")\n",
    "\n",
    "series_name = links[0].text.strip()\n",
    "venue = links[1].text.strip()\n",
    "\n",
    "match_id = url.split('/')[-2]\n",
    "title_main = title.split(\" - \")[0].strip()\n",
    "match_no = title_main.split(',')[-1].strip() if ',' in title_main else \"\"\n",
    "\n",
    "date_span = subhdr.find_element(By.CSS_SELECTOR, 'span[itemprop=\"startDate\"]')\n",
    "year = date_span.get_attribute(\"content\")[:4] if date_span else \"\"\n",
    "\n",
    "series_type = \"IPL\" if \"Premier League\" in series_name else \"Unknown\"\n",
    "match_type = \"T20\"\n",
    "\n",
    "try:\n",
    "    status_el = WebDriverWait(driver, 10).until(\n",
    "        EC.presence_of_element_located((By.CSS_SELECTOR, \".cb-scrcrd-status.cb-text-complete\"))\n",
    "    )\n",
    "    match_status = status_el.text.strip()\n",
    "    \n",
    "    # Extract the match winning team\n",
    "    if \"won\" in match_status:\n",
    "        match_winning_team = match_status.split(\" won\")[0].strip()\n",
    "    else:\n",
    "        match_winning_team = \"\"\n",
    "except:\n",
    "    match_status = \"\"\n",
    "    match_winning_team = \"\"\n",
    "\n",
    "try:\n",
    "    commentary_block = driver.find_elements(By.CSS_SELECTOR, \"p.cb-com-ln.ng-binding\")\n",
    "    match_tie_breaker = \"\"\n",
    "    for para in commentary_block:\n",
    "        if \"super over\" in para.text.lower() or \"dls\" in para.text.lower():\n",
    "            match_tie_breaker = para.text.strip()\n",
    "            break\n",
    "except:\n",
    "    match_tie_breaker = \"\"\n",
    "\n",
    "match_details = {\n",
    "    \"year\": year,\n",
    "    \"series_type\": series_type,\n",
    "    \"series_name\": series_name,\n",
    "    \"match_no\": match_no,\n",
    "    \"match_type\": match_type,\n",
    "    \"match_id\": match_id,\n",
    "    \"match_venue\": venue,\n",
    "    \"match_status\": match_status,\n",
    "    \"match_winning_team\": match_winning_team,\n",
    "    \"match_tie_breaker\": match_tie_breaker,\n",
    "}\n",
    "\n",
    "csv_filename = \"match_details.csv\"\n",
    "header = [\"year\", \"series_type\", \"series_name\", \"match_no\", \"match_type\", \"match_id\", \"match_venue\", \"match_status\", \"match_winning_team\", \"match_tie_breaker\"]\n",
    "\n",
    "with open(csv_filename, mode='w', newline='') as file:\n",
    "    writer = csv.DictWriter(file, fieldnames=header)\n",
    "    writer.writeheader()  \n",
    "    writer.writerow(match_details) \n",
    "\n",
    "print(f\"Match details saved to {csv_filename}\")\n",
    "\n",
    "driver.quit()\n"
   ]
  },
  {
   "cell_type": "code",
   "execution_count": null,
   "id": "d3cbf8af-11b9-4dd9-97a4-83004fbbbc3a",
   "metadata": {},
   "outputs": [],
   "source": []
  }
 ],
 "metadata": {
  "kernelspec": {
   "display_name": "Python 3 (ipykernel)",
   "language": "python",
   "name": "python3"
  },
  "language_info": {
   "codemirror_mode": {
    "name": "ipython",
    "version": 3
   },
   "file_extension": ".py",
   "mimetype": "text/x-python",
   "name": "python",
   "nbconvert_exporter": "python",
   "pygments_lexer": "ipython3",
   "version": "3.12.7"
  }
 },
 "nbformat": 4,
 "nbformat_minor": 5
}
